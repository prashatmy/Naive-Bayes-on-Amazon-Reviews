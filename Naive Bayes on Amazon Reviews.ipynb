{
 "cells": [
  {
   "cell_type": "code",
   "execution_count": null,
   "metadata": {
    "collapsed": true
   },
   "outputs": [],
   "source": []
  },
  {
   "cell_type": "markdown",
   "metadata": {
    "colab_type": "text",
    "id": "4UPJU7FIDYHb"
   },
   "source": [
    "# Amazon Fine Food Reviews Analysis\n",
    "\n",
    "\n",
    "Data Source: https://www.kaggle.com/snap/amazon-fine-food-reviews <br>\n",
    "\n",
    "EDA: https://nycdatascience.com/blog/student-works/amazon-fine-foods-visualization/\n",
    "\n",
    "\n",
    "The Amazon Fine Food Reviews dataset consists of reviews of fine foods from Amazon.<br>\n",
    "\n",
    "Number of reviews: 568,454<br>\n",
    "Number of users: 256,059<br>\n",
    "Number of products: 74,258<br>\n",
    "Timespan: Oct 1999 - Oct 2012<br>\n",
    "Number of Attributes/Columns in data: 10 \n",
    "\n",
    "Attribute Information:\n",
    "\n",
    "1. Id\n",
    "2. ProductId - unique identifier for the product\n",
    "3. UserId - unqiue identifier for the user\n",
    "4. ProfileName\n",
    "5. HelpfulnessNumerator - number of users who found the review helpful\n",
    "6. HelpfulnessDenominator - number of users who indicated whether they found the review helpful or not\n",
    "7. Score - rating between 1 and 5\n",
    "8. Time - timestamp for the review\n",
    "9. Summary - brief summary of the review\n",
    "10. Text - text of the review\n",
    "\n",
    "\n",
    "#### Objective:\n",
    "Given a review, determine whether the review is positive (rating of 4 or 5) or negative (rating of 1 or 2).\n",
    "\n",
    "<br>\n",
    "[Q] How to determine if a review is positive or negative?<br>\n",
    "<br> \n",
    "[Ans] We could use Score/Rating. A rating of 4 or 5 can be cosnidered as a positive review. A rating of 1 or 2 can be considered as negative one. A review of rating 3 is considered nuetral and such reviews are ignored from our analysis. This is an approximate and proxy way of determining the polarity (positivity/negativity) of a review.\n",
    "\n",
    "\n"
   ]
  },
  {
   "cell_type": "markdown",
   "metadata": {
    "colab_type": "text",
    "id": "Iac3VjZcDYHf"
   },
   "source": [
    "# [1]. Reading Data"
   ]
  },
  {
   "cell_type": "markdown",
   "metadata": {
    "colab_type": "text",
    "id": "wEsMRzNDDYHi"
   },
   "source": [
    "## [1.1] Loading the data\n",
    "\n",
    "The dataset is available in two forms\n",
    "1. .csv file\n",
    "2. SQLite Database\n",
    "\n",
    "In order to load the data, We have used the SQLITE dataset as it is easier to query the data and visualise the data efficiently.\n",
    "<br> \n",
    "\n",
    "Here as we only want to get the global sentiment of the recommendations (positive or negative), we will purposefully ignore all Scores equal to 3. If the score is above 3, then the recommendation wil be set to \"positive\". Otherwise, it will be set to \"negative\"."
   ]
  },
  {
   "cell_type": "code",
   "execution_count": null,
   "metadata": {
    "collapsed": true
   },
   "outputs": [],
   "source": []
  },
  {
   "cell_type": "code",
   "execution_count": 52,
   "metadata": {
    "colab": {},
    "colab_type": "code",
    "collapsed": true,
    "id": "ADl9geUvDYHl"
   },
   "outputs": [],
   "source": [
    "%matplotlib inline\n",
    "import warnings\n",
    "warnings.filterwarnings(\"ignore\")\n",
    "\n",
    "\n",
    "import sqlite3\n",
    "import pandas as pd\n",
    "import numpy as np\n",
    "import nltk\n",
    "import string\n",
    "import matplotlib.pyplot as plt\n",
    "import seaborn as sns\n",
    "from sklearn.feature_extraction.text import TfidfTransformer\n",
    "from sklearn.feature_extraction.text import TfidfVectorizer\n",
    "\n",
    "from sklearn.feature_extraction.text import CountVectorizer\n",
    "from sklearn.metrics import confusion_matrix\n",
    "from sklearn import metrics\n",
    "from sklearn.metrics import roc_curve, auc\n",
    "from nltk.stem.porter import PorterStemmer\n",
    "\n",
    "import re\n",
    "# Tutorial about Python regular expressions: https://pymotw.com/2/re/\n",
    "import string\n",
    "from nltk.corpus import stopwords\n",
    "from nltk.stem import PorterStemmer\n",
    "from nltk.stem.wordnet import WordNetLemmatizer\n",
    "\n",
    "from gensim.models import Word2Vec\n",
    "from gensim.models import KeyedVectors\n",
    "import pickle\n",
    "\n",
    "from tqdm import tqdm\n",
    "import os\n",
    "#print(os.getcwd())"
   ]
  },
  {
   "cell_type": "code",
   "execution_count": 53,
   "metadata": {
    "colab": {},
    "colab_type": "code",
    "id": "9pO69buUDYHz",
    "outputId": "00371235-7840-4a31-be63-4945d6cbbb2e"
   },
   "outputs": [
    {
     "name": "stdout",
     "output_type": "stream",
     "text": [
      "Number of data points in our data (125000, 10)\n"
     ]
    },
    {
     "data": {
      "text/html": [
       "<div>\n",
       "<style scoped>\n",
       "    .dataframe tbody tr th:only-of-type {\n",
       "        vertical-align: middle;\n",
       "    }\n",
       "\n",
       "    .dataframe tbody tr th {\n",
       "        vertical-align: top;\n",
       "    }\n",
       "\n",
       "    .dataframe thead th {\n",
       "        text-align: right;\n",
       "    }\n",
       "</style>\n",
       "<table border=\"1\" class=\"dataframe\">\n",
       "  <thead>\n",
       "    <tr style=\"text-align: right;\">\n",
       "      <th></th>\n",
       "      <th>Id</th>\n",
       "      <th>ProductId</th>\n",
       "      <th>UserId</th>\n",
       "      <th>ProfileName</th>\n",
       "      <th>HelpfulnessNumerator</th>\n",
       "      <th>HelpfulnessDenominator</th>\n",
       "      <th>Score</th>\n",
       "      <th>Time</th>\n",
       "      <th>Summary</th>\n",
       "      <th>Text</th>\n",
       "    </tr>\n",
       "  </thead>\n",
       "  <tbody>\n",
       "    <tr>\n",
       "      <th>0</th>\n",
       "      <td>1</td>\n",
       "      <td>B001E4KFG0</td>\n",
       "      <td>A3SGXH7AUHU8GW</td>\n",
       "      <td>delmartian</td>\n",
       "      <td>1</td>\n",
       "      <td>1</td>\n",
       "      <td>1</td>\n",
       "      <td>1303862400</td>\n",
       "      <td>Good Quality Dog Food</td>\n",
       "      <td>I have bought several of the Vitality canned d...</td>\n",
       "    </tr>\n",
       "    <tr>\n",
       "      <th>1</th>\n",
       "      <td>2</td>\n",
       "      <td>B00813GRG4</td>\n",
       "      <td>A1D87F6ZCVE5NK</td>\n",
       "      <td>dll pa</td>\n",
       "      <td>0</td>\n",
       "      <td>0</td>\n",
       "      <td>0</td>\n",
       "      <td>1346976000</td>\n",
       "      <td>Not as Advertised</td>\n",
       "      <td>Product arrived labeled as Jumbo Salted Peanut...</td>\n",
       "    </tr>\n",
       "    <tr>\n",
       "      <th>2</th>\n",
       "      <td>3</td>\n",
       "      <td>B000LQOCH0</td>\n",
       "      <td>ABXLMWJIXXAIN</td>\n",
       "      <td>Natalia Corres \"Natalia Corres\"</td>\n",
       "      <td>1</td>\n",
       "      <td>1</td>\n",
       "      <td>1</td>\n",
       "      <td>1219017600</td>\n",
       "      <td>\"Delight\" says it all</td>\n",
       "      <td>This is a confection that has been around a fe...</td>\n",
       "    </tr>\n",
       "  </tbody>\n",
       "</table>\n",
       "</div>"
      ],
      "text/plain": [
       "   Id   ProductId          UserId                      ProfileName  \\\n",
       "0   1  B001E4KFG0  A3SGXH7AUHU8GW                       delmartian   \n",
       "1   2  B00813GRG4  A1D87F6ZCVE5NK                           dll pa   \n",
       "2   3  B000LQOCH0   ABXLMWJIXXAIN  Natalia Corres \"Natalia Corres\"   \n",
       "\n",
       "   HelpfulnessNumerator  HelpfulnessDenominator  Score        Time  \\\n",
       "0                     1                       1      1  1303862400   \n",
       "1                     0                       0      0  1346976000   \n",
       "2                     1                       1      1  1219017600   \n",
       "\n",
       "                 Summary                                               Text  \n",
       "0  Good Quality Dog Food  I have bought several of the Vitality canned d...  \n",
       "1      Not as Advertised  Product arrived labeled as Jumbo Salted Peanut...  \n",
       "2  \"Delight\" says it all  This is a confection that has been around a fe...  "
      ]
     },
     "execution_count": 53,
     "metadata": {},
     "output_type": "execute_result"
    }
   ],
   "source": [
    "# using SQLite Table to read data.\n",
    "con = sqlite3.connect('database.sqlite') \n",
    "\n",
    "# filtering only positive and negative reviews i.e. \n",
    "# not taking into consideration those reviews with Score=3\n",
    "# SELECT * FROM Reviews WHERE Score != 3 LIMIT 500000, will give top 500000 data points\n",
    "# you can change the number to any other number based on your computing power\n",
    "\n",
    "# filtered_data = pd.read_sql_query(\"\"\" SELECT * FROM Reviews WHERE Score != 3 LIMIT 500000\"\"\", con) \n",
    "# for tsne assignment you can take 5k data points\n",
    "\n",
    "filtered_data = pd.read_sql_query(\"\"\" SELECT * FROM Reviews WHERE Score != 3 LIMIT 125000\"\"\", con) \n",
    "\n",
    "# Give reviews with Score>3 a positive rating(1), and reviews with a score<3 a negative rating(0).\n",
    "def partition(x):\n",
    "    if x < 3:\n",
    "        return 0\n",
    "    return 1\n",
    "\n",
    "#changing reviews with score less than 3 to be positive and vice-versa\n",
    "actualScore = filtered_data['Score']\n",
    "positiveNegative = actualScore.map(partition) \n",
    "filtered_data['Score'] = positiveNegative\n",
    "print(\"Number of data points in our data\", filtered_data.shape)\n",
    "filtered_data.head(3)"
   ]
  },
  {
   "cell_type": "code",
   "execution_count": 54,
   "metadata": {
    "colab": {},
    "colab_type": "code",
    "collapsed": true,
    "id": "bDrGXaolDYIH"
   },
   "outputs": [],
   "source": [
    "display = pd.read_sql_query(\"\"\"\n",
    "SELECT UserId, ProductId, ProfileName, Time, Score, Text, COUNT(*)\n",
    "FROM Reviews\n",
    "GROUP BY UserId\n",
    "HAVING COUNT(*)>1\n",
    "\"\"\", con)"
   ]
  },
  {
   "cell_type": "code",
   "execution_count": 55,
   "metadata": {
    "colab": {},
    "colab_type": "code",
    "id": "Jj-M3g0FDYIj",
    "outputId": "2c700ad5-02ad-4f43-a532-fb847609043e",
    "scrolled": true
   },
   "outputs": [
    {
     "name": "stdout",
     "output_type": "stream",
     "text": [
      "(80668, 7)\n"
     ]
    },
    {
     "data": {
      "text/html": [
       "<div>\n",
       "<style scoped>\n",
       "    .dataframe tbody tr th:only-of-type {\n",
       "        vertical-align: middle;\n",
       "    }\n",
       "\n",
       "    .dataframe tbody tr th {\n",
       "        vertical-align: top;\n",
       "    }\n",
       "\n",
       "    .dataframe thead th {\n",
       "        text-align: right;\n",
       "    }\n",
       "</style>\n",
       "<table border=\"1\" class=\"dataframe\">\n",
       "  <thead>\n",
       "    <tr style=\"text-align: right;\">\n",
       "      <th></th>\n",
       "      <th>UserId</th>\n",
       "      <th>ProductId</th>\n",
       "      <th>ProfileName</th>\n",
       "      <th>Time</th>\n",
       "      <th>Score</th>\n",
       "      <th>Text</th>\n",
       "      <th>COUNT(*)</th>\n",
       "    </tr>\n",
       "  </thead>\n",
       "  <tbody>\n",
       "    <tr>\n",
       "      <th>0</th>\n",
       "      <td>#oc-R115TNMSPFT9I7</td>\n",
       "      <td>B005ZBZLT4</td>\n",
       "      <td>Breyton</td>\n",
       "      <td>1331510400</td>\n",
       "      <td>2</td>\n",
       "      <td>Overall its just OK when considering the price...</td>\n",
       "      <td>2</td>\n",
       "    </tr>\n",
       "    <tr>\n",
       "      <th>1</th>\n",
       "      <td>#oc-R11D9D7SHXIJB9</td>\n",
       "      <td>B005HG9ESG</td>\n",
       "      <td>Louis E. Emory \"hoppy\"</td>\n",
       "      <td>1342396800</td>\n",
       "      <td>5</td>\n",
       "      <td>My wife has recurring extreme muscle spasms, u...</td>\n",
       "      <td>3</td>\n",
       "    </tr>\n",
       "    <tr>\n",
       "      <th>2</th>\n",
       "      <td>#oc-R11DNU2NBKQ23Z</td>\n",
       "      <td>B005ZBZLT4</td>\n",
       "      <td>Kim Cieszykowski</td>\n",
       "      <td>1348531200</td>\n",
       "      <td>1</td>\n",
       "      <td>This coffee is horrible and unfortunately not ...</td>\n",
       "      <td>2</td>\n",
       "    </tr>\n",
       "    <tr>\n",
       "      <th>3</th>\n",
       "      <td>#oc-R11O5J5ZVQE25C</td>\n",
       "      <td>B005HG9ESG</td>\n",
       "      <td>Penguin Chick</td>\n",
       "      <td>1346889600</td>\n",
       "      <td>5</td>\n",
       "      <td>This will be the bottle that you grab from the...</td>\n",
       "      <td>3</td>\n",
       "    </tr>\n",
       "    <tr>\n",
       "      <th>4</th>\n",
       "      <td>#oc-R12KPBODL2B5ZD</td>\n",
       "      <td>B007OSBEV0</td>\n",
       "      <td>Christopher P. Presta</td>\n",
       "      <td>1348617600</td>\n",
       "      <td>1</td>\n",
       "      <td>I didnt like this coffee. Instead of telling y...</td>\n",
       "      <td>2</td>\n",
       "    </tr>\n",
       "  </tbody>\n",
       "</table>\n",
       "</div>"
      ],
      "text/plain": [
       "               UserId   ProductId             ProfileName        Time  Score  \\\n",
       "0  #oc-R115TNMSPFT9I7  B005ZBZLT4                 Breyton  1331510400      2   \n",
       "1  #oc-R11D9D7SHXIJB9  B005HG9ESG  Louis E. Emory \"hoppy\"  1342396800      5   \n",
       "2  #oc-R11DNU2NBKQ23Z  B005ZBZLT4        Kim Cieszykowski  1348531200      1   \n",
       "3  #oc-R11O5J5ZVQE25C  B005HG9ESG           Penguin Chick  1346889600      5   \n",
       "4  #oc-R12KPBODL2B5ZD  B007OSBEV0   Christopher P. Presta  1348617600      1   \n",
       "\n",
       "                                                Text  COUNT(*)  \n",
       "0  Overall its just OK when considering the price...         2  \n",
       "1  My wife has recurring extreme muscle spasms, u...         3  \n",
       "2  This coffee is horrible and unfortunately not ...         2  \n",
       "3  This will be the bottle that you grab from the...         3  \n",
       "4  I didnt like this coffee. Instead of telling y...         2  "
      ]
     },
     "execution_count": 55,
     "metadata": {},
     "output_type": "execute_result"
    }
   ],
   "source": [
    "print(display.shape)\n",
    "display.head()"
   ]
  },
  {
   "cell_type": "code",
   "execution_count": 56,
   "metadata": {
    "colab": {},
    "colab_type": "code",
    "id": "eAG-AQpWDYIx",
    "outputId": "889e7973-47ab-423b-fd10-ee5058498ad0"
   },
   "outputs": [
    {
     "data": {
      "text/html": [
       "<div>\n",
       "<style scoped>\n",
       "    .dataframe tbody tr th:only-of-type {\n",
       "        vertical-align: middle;\n",
       "    }\n",
       "\n",
       "    .dataframe tbody tr th {\n",
       "        vertical-align: top;\n",
       "    }\n",
       "\n",
       "    .dataframe thead th {\n",
       "        text-align: right;\n",
       "    }\n",
       "</style>\n",
       "<table border=\"1\" class=\"dataframe\">\n",
       "  <thead>\n",
       "    <tr style=\"text-align: right;\">\n",
       "      <th></th>\n",
       "      <th>UserId</th>\n",
       "      <th>ProductId</th>\n",
       "      <th>ProfileName</th>\n",
       "      <th>Time</th>\n",
       "      <th>Score</th>\n",
       "      <th>Text</th>\n",
       "      <th>COUNT(*)</th>\n",
       "    </tr>\n",
       "  </thead>\n",
       "  <tbody>\n",
       "    <tr>\n",
       "      <th>80638</th>\n",
       "      <td>AZY10LLTJ71NX</td>\n",
       "      <td>B001ATMQK2</td>\n",
       "      <td>undertheshrine \"undertheshrine\"</td>\n",
       "      <td>1296691200</td>\n",
       "      <td>5</td>\n",
       "      <td>I bought this 6 pack because for the price tha...</td>\n",
       "      <td>5</td>\n",
       "    </tr>\n",
       "  </tbody>\n",
       "</table>\n",
       "</div>"
      ],
      "text/plain": [
       "              UserId   ProductId                      ProfileName        Time  \\\n",
       "80638  AZY10LLTJ71NX  B001ATMQK2  undertheshrine \"undertheshrine\"  1296691200   \n",
       "\n",
       "       Score                                               Text  COUNT(*)  \n",
       "80638      5  I bought this 6 pack because for the price tha...         5  "
      ]
     },
     "execution_count": 56,
     "metadata": {},
     "output_type": "execute_result"
    }
   ],
   "source": [
    "display[display['UserId']=='AZY10LLTJ71NX']"
   ]
  },
  {
   "cell_type": "code",
   "execution_count": 57,
   "metadata": {
    "colab": {},
    "colab_type": "code",
    "id": "3qBpPZKaDYI7",
    "outputId": "375dd0be-186a-4b00-8594-06fb20ded08a"
   },
   "outputs": [
    {
     "data": {
      "text/plain": [
       "393063"
      ]
     },
     "execution_count": 57,
     "metadata": {},
     "output_type": "execute_result"
    }
   ],
   "source": [
    "display['COUNT(*)'].sum()"
   ]
  },
  {
   "cell_type": "markdown",
   "metadata": {
    "colab_type": "text",
    "id": "G1rTdPsqDYJI"
   },
   "source": [
    "#  [2] Exploratory Data Analysis"
   ]
  },
  {
   "cell_type": "markdown",
   "metadata": {
    "colab_type": "text",
    "id": "Wh5RH-NsDYJJ"
   },
   "source": [
    "## [2.1] Data Cleaning: Deduplication\n",
    "\n",
    "It is observed (as shown in the table below) that the reviews data had many duplicate entries. Hence it was necessary to remove duplicates in order to get unbiased results for the analysis of the data.  Following is an example:"
   ]
  },
  {
   "cell_type": "code",
   "execution_count": 58,
   "metadata": {
    "colab": {},
    "colab_type": "code",
    "id": "EUF69tvsDYJO",
    "outputId": "d08434a0-b58a-4d4a-db71-729bbb1539e5",
    "scrolled": false
   },
   "outputs": [
    {
     "data": {
      "text/html": [
       "<div>\n",
       "<style scoped>\n",
       "    .dataframe tbody tr th:only-of-type {\n",
       "        vertical-align: middle;\n",
       "    }\n",
       "\n",
       "    .dataframe tbody tr th {\n",
       "        vertical-align: top;\n",
       "    }\n",
       "\n",
       "    .dataframe thead th {\n",
       "        text-align: right;\n",
       "    }\n",
       "</style>\n",
       "<table border=\"1\" class=\"dataframe\">\n",
       "  <thead>\n",
       "    <tr style=\"text-align: right;\">\n",
       "      <th></th>\n",
       "      <th>Id</th>\n",
       "      <th>ProductId</th>\n",
       "      <th>UserId</th>\n",
       "      <th>ProfileName</th>\n",
       "      <th>HelpfulnessNumerator</th>\n",
       "      <th>HelpfulnessDenominator</th>\n",
       "      <th>Score</th>\n",
       "      <th>Time</th>\n",
       "      <th>Summary</th>\n",
       "      <th>Text</th>\n",
       "    </tr>\n",
       "  </thead>\n",
       "  <tbody>\n",
       "    <tr>\n",
       "      <th>0</th>\n",
       "      <td>78445</td>\n",
       "      <td>B000HDL1RQ</td>\n",
       "      <td>AR5J8UI46CURR</td>\n",
       "      <td>Geetha Krishnan</td>\n",
       "      <td>2</td>\n",
       "      <td>2</td>\n",
       "      <td>5</td>\n",
       "      <td>1199577600</td>\n",
       "      <td>LOACKER QUADRATINI VANILLA WAFERS</td>\n",
       "      <td>DELICIOUS WAFERS. I FIND THAT EUROPEAN WAFERS ...</td>\n",
       "    </tr>\n",
       "    <tr>\n",
       "      <th>1</th>\n",
       "      <td>138317</td>\n",
       "      <td>B000HDOPYC</td>\n",
       "      <td>AR5J8UI46CURR</td>\n",
       "      <td>Geetha Krishnan</td>\n",
       "      <td>2</td>\n",
       "      <td>2</td>\n",
       "      <td>5</td>\n",
       "      <td>1199577600</td>\n",
       "      <td>LOACKER QUADRATINI VANILLA WAFERS</td>\n",
       "      <td>DELICIOUS WAFERS. I FIND THAT EUROPEAN WAFERS ...</td>\n",
       "    </tr>\n",
       "    <tr>\n",
       "      <th>2</th>\n",
       "      <td>138277</td>\n",
       "      <td>B000HDOPYM</td>\n",
       "      <td>AR5J8UI46CURR</td>\n",
       "      <td>Geetha Krishnan</td>\n",
       "      <td>2</td>\n",
       "      <td>2</td>\n",
       "      <td>5</td>\n",
       "      <td>1199577600</td>\n",
       "      <td>LOACKER QUADRATINI VANILLA WAFERS</td>\n",
       "      <td>DELICIOUS WAFERS. I FIND THAT EUROPEAN WAFERS ...</td>\n",
       "    </tr>\n",
       "    <tr>\n",
       "      <th>3</th>\n",
       "      <td>73791</td>\n",
       "      <td>B000HDOPZG</td>\n",
       "      <td>AR5J8UI46CURR</td>\n",
       "      <td>Geetha Krishnan</td>\n",
       "      <td>2</td>\n",
       "      <td>2</td>\n",
       "      <td>5</td>\n",
       "      <td>1199577600</td>\n",
       "      <td>LOACKER QUADRATINI VANILLA WAFERS</td>\n",
       "      <td>DELICIOUS WAFERS. I FIND THAT EUROPEAN WAFERS ...</td>\n",
       "    </tr>\n",
       "    <tr>\n",
       "      <th>4</th>\n",
       "      <td>155049</td>\n",
       "      <td>B000PAQ75C</td>\n",
       "      <td>AR5J8UI46CURR</td>\n",
       "      <td>Geetha Krishnan</td>\n",
       "      <td>2</td>\n",
       "      <td>2</td>\n",
       "      <td>5</td>\n",
       "      <td>1199577600</td>\n",
       "      <td>LOACKER QUADRATINI VANILLA WAFERS</td>\n",
       "      <td>DELICIOUS WAFERS. I FIND THAT EUROPEAN WAFERS ...</td>\n",
       "    </tr>\n",
       "  </tbody>\n",
       "</table>\n",
       "</div>"
      ],
      "text/plain": [
       "       Id   ProductId         UserId      ProfileName  HelpfulnessNumerator  \\\n",
       "0   78445  B000HDL1RQ  AR5J8UI46CURR  Geetha Krishnan                     2   \n",
       "1  138317  B000HDOPYC  AR5J8UI46CURR  Geetha Krishnan                     2   \n",
       "2  138277  B000HDOPYM  AR5J8UI46CURR  Geetha Krishnan                     2   \n",
       "3   73791  B000HDOPZG  AR5J8UI46CURR  Geetha Krishnan                     2   \n",
       "4  155049  B000PAQ75C  AR5J8UI46CURR  Geetha Krishnan                     2   \n",
       "\n",
       "   HelpfulnessDenominator  Score        Time  \\\n",
       "0                       2      5  1199577600   \n",
       "1                       2      5  1199577600   \n",
       "2                       2      5  1199577600   \n",
       "3                       2      5  1199577600   \n",
       "4                       2      5  1199577600   \n",
       "\n",
       "                             Summary  \\\n",
       "0  LOACKER QUADRATINI VANILLA WAFERS   \n",
       "1  LOACKER QUADRATINI VANILLA WAFERS   \n",
       "2  LOACKER QUADRATINI VANILLA WAFERS   \n",
       "3  LOACKER QUADRATINI VANILLA WAFERS   \n",
       "4  LOACKER QUADRATINI VANILLA WAFERS   \n",
       "\n",
       "                                                Text  \n",
       "0  DELICIOUS WAFERS. I FIND THAT EUROPEAN WAFERS ...  \n",
       "1  DELICIOUS WAFERS. I FIND THAT EUROPEAN WAFERS ...  \n",
       "2  DELICIOUS WAFERS. I FIND THAT EUROPEAN WAFERS ...  \n",
       "3  DELICIOUS WAFERS. I FIND THAT EUROPEAN WAFERS ...  \n",
       "4  DELICIOUS WAFERS. I FIND THAT EUROPEAN WAFERS ...  "
      ]
     },
     "execution_count": 58,
     "metadata": {},
     "output_type": "execute_result"
    }
   ],
   "source": [
    "display= pd.read_sql_query(\"\"\"\n",
    "SELECT *\n",
    "FROM Reviews\n",
    "WHERE Score != 3 AND UserId=\"AR5J8UI46CURR\"\n",
    "ORDER BY ProductID\n",
    "\"\"\", con)\n",
    "display.head()"
   ]
  },
  {
   "cell_type": "markdown",
   "metadata": {
    "colab_type": "text",
    "id": "cKrGPQEfDYJW"
   },
   "source": [
    "As it can be seen above that same user has multiple reviews with same values for HelpfulnessNumerator, HelpfulnessDenominator, Score, Time, Summary and Text and on doing analysis it was found that <br>\n",
    "<br> \n",
    "ProductId=B000HDOPZG was Loacker Quadratini Vanilla Wafer Cookies, 8.82-Ounce Packages (Pack of 8)<br>\n",
    "<br> \n",
    "ProductId=B000HDL1RQ was Loacker Quadratini Lemon Wafer Cookies, 8.82-Ounce Packages (Pack of 8) and so on<br>\n",
    "\n",
    "It was inferred after analysis that reviews with same parameters other than ProductId belonged to the same product just having different flavour or quantity. Hence in order to reduce redundancy it was decided to eliminate the rows having same parameters.<br>\n",
    "\n",
    "The method used for the same was that we first sort the data according to ProductId and then just keep the first similar product review and delelte the others. for eg. in the above just the review for ProductId=B000HDL1RQ remains. This method ensures that there is only one representative for each product and deduplication without sorting would lead to possibility of different representatives still existing for the same product."
   ]
  },
  {
   "cell_type": "code",
   "execution_count": 59,
   "metadata": {
    "colab": {},
    "colab_type": "code",
    "collapsed": true,
    "id": "eQWrz1nFDYJX"
   },
   "outputs": [],
   "source": [
    "#Sorting data according to ProductId in ascending order\n",
    "sorted_data=filtered_data.sort_values('ProductId', axis=0, ascending=True, inplace=False, kind='quicksort', na_position='last')"
   ]
  },
  {
   "cell_type": "code",
   "execution_count": 60,
   "metadata": {
    "colab": {},
    "colab_type": "code",
    "id": "4CS7fUdLDYJd",
    "outputId": "6fa1310c-c733-4bb5-9b0a-cbb72b05e086"
   },
   "outputs": [
    {
     "data": {
      "text/plain": [
       "(107311, 10)"
      ]
     },
     "execution_count": 60,
     "metadata": {},
     "output_type": "execute_result"
    }
   ],
   "source": [
    "#Deduplication of entries\n",
    "final=sorted_data.drop_duplicates(subset={\"UserId\",\"ProfileName\",\"Time\",\"Text\"}, keep='first', inplace=False)\n",
    "final.shape"
   ]
  },
  {
   "cell_type": "code",
   "execution_count": 61,
   "metadata": {
    "colab": {},
    "colab_type": "code",
    "id": "Hcc_-CJMDYJk",
    "outputId": "8490fe52-8d00-4196-d0f4-5718b54f10e8"
   },
   "outputs": [
    {
     "data": {
      "text/plain": [
       "85.8488"
      ]
     },
     "execution_count": 61,
     "metadata": {},
     "output_type": "execute_result"
    }
   ],
   "source": [
    "#Checking to see how much % of data still remains\n",
    "(final['Id'].size*1.0)/(filtered_data['Id'].size*1.0)*100"
   ]
  },
  {
   "cell_type": "markdown",
   "metadata": {
    "colab_type": "text",
    "id": "engwR6VNDYJq"
   },
   "source": [
    "<b>Observation:-</b> It was also seen that in two rows given below the value of HelpfulnessNumerator is greater than HelpfulnessDenominator which is not practically possible hence these two rows too are removed from calcualtions"
   ]
  },
  {
   "cell_type": "code",
   "execution_count": 62,
   "metadata": {
    "colab": {},
    "colab_type": "code",
    "id": "hjN7-OL_DYJt",
    "outputId": "5e4c5f88-4f27-42ca-e378-04cbc8e8d8d9"
   },
   "outputs": [
    {
     "data": {
      "text/html": [
       "<div>\n",
       "<style scoped>\n",
       "    .dataframe tbody tr th:only-of-type {\n",
       "        vertical-align: middle;\n",
       "    }\n",
       "\n",
       "    .dataframe tbody tr th {\n",
       "        vertical-align: top;\n",
       "    }\n",
       "\n",
       "    .dataframe thead th {\n",
       "        text-align: right;\n",
       "    }\n",
       "</style>\n",
       "<table border=\"1\" class=\"dataframe\">\n",
       "  <thead>\n",
       "    <tr style=\"text-align: right;\">\n",
       "      <th></th>\n",
       "      <th>Id</th>\n",
       "      <th>ProductId</th>\n",
       "      <th>UserId</th>\n",
       "      <th>ProfileName</th>\n",
       "      <th>HelpfulnessNumerator</th>\n",
       "      <th>HelpfulnessDenominator</th>\n",
       "      <th>Score</th>\n",
       "      <th>Time</th>\n",
       "      <th>Summary</th>\n",
       "      <th>Text</th>\n",
       "    </tr>\n",
       "  </thead>\n",
       "  <tbody>\n",
       "    <tr>\n",
       "      <th>0</th>\n",
       "      <td>64422</td>\n",
       "      <td>B000MIDROQ</td>\n",
       "      <td>A161DK06JJMCYF</td>\n",
       "      <td>J. E. Stephens \"Jeanne\"</td>\n",
       "      <td>3</td>\n",
       "      <td>1</td>\n",
       "      <td>5</td>\n",
       "      <td>1224892800</td>\n",
       "      <td>Bought This for My Son at College</td>\n",
       "      <td>My son loves spaghetti so I didn't hesitate or...</td>\n",
       "    </tr>\n",
       "    <tr>\n",
       "      <th>1</th>\n",
       "      <td>44737</td>\n",
       "      <td>B001EQ55RW</td>\n",
       "      <td>A2V0I904FH7ABY</td>\n",
       "      <td>Ram</td>\n",
       "      <td>3</td>\n",
       "      <td>2</td>\n",
       "      <td>4</td>\n",
       "      <td>1212883200</td>\n",
       "      <td>Pure cocoa taste with crunchy almonds inside</td>\n",
       "      <td>It was almost a 'love at first bite' - the per...</td>\n",
       "    </tr>\n",
       "  </tbody>\n",
       "</table>\n",
       "</div>"
      ],
      "text/plain": [
       "      Id   ProductId          UserId              ProfileName  \\\n",
       "0  64422  B000MIDROQ  A161DK06JJMCYF  J. E. Stephens \"Jeanne\"   \n",
       "1  44737  B001EQ55RW  A2V0I904FH7ABY                      Ram   \n",
       "\n",
       "   HelpfulnessNumerator  HelpfulnessDenominator  Score        Time  \\\n",
       "0                     3                       1      5  1224892800   \n",
       "1                     3                       2      4  1212883200   \n",
       "\n",
       "                                        Summary  \\\n",
       "0             Bought This for My Son at College   \n",
       "1  Pure cocoa taste with crunchy almonds inside   \n",
       "\n",
       "                                                Text  \n",
       "0  My son loves spaghetti so I didn't hesitate or...  \n",
       "1  It was almost a 'love at first bite' - the per...  "
      ]
     },
     "execution_count": 62,
     "metadata": {},
     "output_type": "execute_result"
    }
   ],
   "source": [
    "display= pd.read_sql_query(\"\"\"\n",
    "SELECT *\n",
    "FROM Reviews\n",
    "WHERE Score != 3 AND Id=44737 OR Id=64422\n",
    "ORDER BY ProductID\n",
    "\"\"\", con)\n",
    "\n",
    "display.head()"
   ]
  },
  {
   "cell_type": "code",
   "execution_count": 63,
   "metadata": {
    "colab": {},
    "colab_type": "code",
    "collapsed": true,
    "id": "Ezix6kJ_DYJ3"
   },
   "outputs": [],
   "source": [
    "final=final[final.HelpfulnessNumerator<=final.HelpfulnessDenominator]"
   ]
  },
  {
   "cell_type": "code",
   "execution_count": 64,
   "metadata": {
    "colab": {},
    "colab_type": "code",
    "id": "yWsVhvArDYJ9",
    "outputId": "0fd8ea32-ce27-4232-a7f1-880eb06ca956"
   },
   "outputs": [
    {
     "name": "stdout",
     "output_type": "stream",
     "text": [
      "(107309, 10)\n"
     ]
    }
   ],
   "source": [
    "#Before starting the next phase of preprocessing lets see the number of entries left\n",
    "print(final.shape)\n",
    "#How many positive and negative reviews are present in our dataset?\n",
    "final['Score'].value_counts()\n",
    "y=final['Score']\n",
    "#print(y)"
   ]
  },
  {
   "cell_type": "markdown",
   "metadata": {},
   "source": [
    "#As data is imbalanced I selected 5k positive and 5k negative samples in next cell"
   ]
  },
  {
   "cell_type": "markdown",
   "metadata": {},
   "source": [
    "#Displayed labels of dataset which shows positive and negative samples are seperated so we need to shuffle these"
   ]
  },
  {
   "cell_type": "markdown",
   "metadata": {
    "colab_type": "text",
    "id": "AoLxCQ-VDYKI"
   },
   "source": [
    "#  [3] Preprocessing"
   ]
  },
  {
   "cell_type": "markdown",
   "metadata": {
    "colab_type": "text",
    "id": "P7Zq_ToqDYKJ"
   },
   "source": [
    "## [3.1].  Preprocessing Review Text\n",
    "\n",
    "Now that we have finished deduplication our data requires some preprocessing before we go on further with analysis and making the prediction model.\n",
    "\n",
    "Hence in the Preprocessing phase we do the following in the order below:-\n",
    "\n",
    "1. Begin by removing the html tags\n",
    "2. Remove any punctuations or limited set of special characters like , or . or # etc.\n",
    "3. Check if the word is made up of english letters and is not alpha-numeric\n",
    "4. Check to see if the length of the word is greater than 2 (as it was researched that there is no adjective in 2-letters)\n",
    "5. Convert the word to lowercase\n",
    "6. Remove Stopwords\n",
    "7. Finally Snowball Stemming the word (it was obsereved to be better than Porter Stemming)<br>\n",
    "\n",
    "After which we collect the words used to describe positive and negative reviews"
   ]
  },
  {
   "cell_type": "code",
   "execution_count": 65,
   "metadata": {
    "colab": {},
    "colab_type": "code",
    "id": "3jw5g5yEDYKL",
    "outputId": "06d7bd61-438f-4319-a9f7-ecb2312f3dec"
   },
   "outputs": [
    {
     "name": "stdout",
     "output_type": "stream",
     "text": [
      "Back in March I ordered four dawn redwoods from a nursery on Ebay, all about 2-3 feet tall.  They arrived bareroot and healthy.  The plan was to plant three in the ground to replace trees uprooted by Katrina.  The fourth was to go into a pot to be trained as bonsai.  All four trees were thriving, but the one in the pot looked like a plant that yearned to join the rest of its family out in the yard, rather than being forested with my bonsai collection.  Clearly, it was going to take time, patience, and training to get it to look like a bonsai.  I decided to put it in the ground and order a Brussels Dawn Redwood.<br /><br />And I'm glad I did.  The Brussels tree is a long way from a specimen, but it already looks like a bonsai, a mature-looking but minature redwood with beatuiful tapered trunk and gorgeous lower branching, all of which was lacking in the nursery tree, which had arrived pruned to favor topgrowth.  The Brussels Dawn redwood is absolutely stunning, far superior to the tree pictured on Amazon.<br /><br />Sure, the nursery tree would have acquired this look--eventually, and after much training.  But it loves growing with its kinfolk in the yard, and meanwhile I have this beautifully shaped little tree from Brussels to marvel at every time I sit outside with my bonsai collection.  Frankly, I can't take my eyes off it.<br /><br />I'm neither impatient by nature nor a champion of acting on impulse.  But there are times when instant gratification and acting on impulse has its rewards, and this was one of them.  The Brussels Dawn Redwood looks like a tree, not a seedling.  It is nothing short of breathtaking.\n",
      "==================================================\n",
      "If you grew up eating Guava Paste with cream cheese on galletas, then this will bring back memories.  Couldn't find this in any of our local grocery stores, but found it online.  Order arrived fast and I shared some with my mother who used to give it to me on the weekends as a special treat.  Just as great as it was back then.\n",
      "==================================================\n"
     ]
    }
   ],
   "source": [
    "# printing some random reviews\n",
    "\n",
    "sent_1000 = final['Text'].values[1000]\n",
    "print(sent_1000)\n",
    "print(\"=\"*50)\n",
    "\n",
    "sent_4900 = final['Text'].values[4900]\n",
    "print(sent_4900)\n",
    "print(\"=\"*50)"
   ]
  },
  {
   "cell_type": "code",
   "execution_count": null,
   "metadata": {
    "colab": {},
    "colab_type": "code",
    "collapsed": true,
    "id": "WloiOvL3DYKT",
    "outputId": "0a0a8f4b-1999-467d-ea4e-06c5280d3c17"
   },
   "outputs": [],
   "source": []
  },
  {
   "cell_type": "code",
   "execution_count": 66,
   "metadata": {
    "colab": {},
    "colab_type": "code",
    "collapsed": true,
    "id": "vQ2mdt2jDYKo"
   },
   "outputs": [],
   "source": [
    "# https://stackoverflow.com/a/47091490/4084039\n",
    "import re\n",
    "\n",
    "def decontracted(phrase):\n",
    "    # specific\n",
    "    phrase = re.sub(r\"won't\", \"will not\", phrase)\n",
    "    phrase = re.sub(r\"can\\'t\", \"can not\", phrase)\n",
    "\n",
    "    # general\n",
    "    phrase = re.sub(r\"n\\'t\", \" not\", phrase)\n",
    "    phrase = re.sub(r\"\\'re\", \" are\", phrase)\n",
    "    phrase = re.sub(r\"\\'s\", \" is\", phrase)\n",
    "    phrase = re.sub(r\"\\'d\", \" would\", phrase)\n",
    "    phrase = re.sub(r\"\\'ll\", \" will\", phrase)\n",
    "    phrase = re.sub(r\"\\'t\", \" not\", phrase)\n",
    "    phrase = re.sub(r\"\\'ve\", \" have\", phrase)\n",
    "    phrase = re.sub(r\"\\'m\", \" am\", phrase)\n",
    "    return phrase"
   ]
  },
  {
   "cell_type": "code",
   "execution_count": 67,
   "metadata": {},
   "outputs": [
    {
     "name": "stdout",
     "output_type": "stream",
     "text": [
      "Back in March I ordered four dawn redwoods from a nursery on Ebay, all about 2-3 feet tall.  They arrived bareroot and healthy.  The plan was to plant three in the ground to replace trees uprooted by Katrina.  The fourth was to go into a pot to be trained as bonsai.  All four trees were thriving, but the one in the pot looked like a plant that yearned to join the rest of its family out in the yard, rather than being forested with my bonsai collection.  Clearly, it was going to take time, patience, and training to get it to look like a bonsai.  I decided to put it in the ground and order a Brussels Dawn Redwood.<br /><br />And I'm glad I did.  The Brussels tree is a long way from a specimen, but it already looks like a bonsai, a mature-looking but minature redwood with beatuiful tapered trunk and gorgeous lower branching, all of which was lacking in the nursery tree, which had arrived pruned to favor topgrowth.  The Brussels Dawn redwood is absolutely stunning, far superior to the tree pictured on Amazon.<br /><br />Sure, the nursery tree would have acquired this look--eventually, and after much training.  But it loves growing with its kinfolk in the yard, and meanwhile I have this beautifully shaped little tree from Brussels to marvel at every time I sit outside with my bonsai collection.  Frankly, I can't take my eyes off it.<br /><br />I'm neither impatient by nature nor a champion of acting on impulse.  But there are times when instant gratification and acting on impulse has its rewards, and this was one of them.  The Brussels Dawn Redwood looks like a tree, not a seedling.  It is nothing short of breathtaking.\n"
     ]
    }
   ],
   "source": [
    "# remove urls from text python: https://stackoverflow.com/a/40823105/4084039\n",
    "sent_1000 = re.sub(r\"http\\S+\", \"\", sent_1000)\n",
    "#sent_1000 = re.sub(r\"http\\S+\", \"\", sent_1000)\n",
    "#sent_150 = re.sub(r\"http\\S+\", \"\", sent_1500)\n",
    "#sent_4900 = re.sub(r\"http\\S+\", \"\", sent_4900)\n",
    "\n",
    "print(sent_1000)"
   ]
  },
  {
   "cell_type": "code",
   "execution_count": 68,
   "metadata": {
    "colab": {},
    "colab_type": "code",
    "collapsed": true,
    "id": "vZJNhKvKDYLA"
   },
   "outputs": [],
   "source": [
    "# https://gist.github.com/sebleier/554280\n",
    "# we are removing the words from the stop words list: 'no', 'nor', 'not'\n",
    "# <br /><br /> ==> after the above steps, we are getting \"br br\"\n",
    "# we are including them into stop words list\n",
    "# instead of <br /> if we have <br/> these tags would have revmoved in the 1st step\n",
    "\n",
    "stopwords= set(['br', 'the', 'i', 'me', 'my', 'myself', 'we', 'our', 'ours', 'ourselves', 'you', \"you're\", \"you've\",\\\n",
    "            \"you'll\", \"you'd\", 'your', 'yours', 'yourself', 'yourselves', 'he', 'him', 'his', 'himself', \\\n",
    "            'she', \"she's\", 'her', 'hers', 'herself', 'it', \"it's\", 'its', 'itself', 'they', 'them', 'their',\\\n",
    "            'theirs', 'themselves', 'what', 'which', 'who', 'whom', 'this', 'that', \"that'll\", 'these', 'those', \\\n",
    "            'am', 'is', 'are', 'was', 'were', 'be', 'been', 'being', 'have', 'has', 'had', 'having', 'do', 'does', \\\n",
    "            'did', 'doing', 'a', 'an', 'the', 'and', 'but', 'if', 'or', 'because', 'as', 'until', 'while', 'of', \\\n",
    "            'at', 'by', 'for', 'with', 'about', 'against', 'between', 'into', 'through', 'during', 'before', 'after',\\\n",
    "            'above', 'below', 'to', 'from', 'up', 'down', 'in', 'out', 'on', 'off', 'over', 'under', 'again', 'further',\\\n",
    "            'then', 'once', 'here', 'there', 'when', 'where', 'why', 'how', 'all', 'any', 'both', 'each', 'few', 'more',\\\n",
    "            'most', 'other', 'some', 'such', 'only', 'own', 'same', 'so', 'than', 'too', 'very', \\\n",
    "            's', 't', 'can', 'will', 'just', 'don', \"don't\", 'should', \"should've\", 'now', 'd', 'll', 'm', 'o', 're', \\\n",
    "            've', 'y', 'ain', 'aren', \"aren't\", 'couldn', \"couldn't\", 'didn', \"didn't\", 'doesn', \"doesn't\", 'hadn',\\\n",
    "            \"hadn't\", 'hasn', \"hasn't\", 'haven', \"haven't\", 'isn', \"isn't\", 'ma', 'mightn', \"mightn't\", 'mustn',\\\n",
    "            \"mustn't\", 'needn', \"needn't\", 'shan', \"shan't\", 'shouldn', \"shouldn't\", 'wasn', \"wasn't\", 'weren', \"weren't\", \\\n",
    "            'won', \"won't\", 'wouldn', \"wouldn't\"])"
   ]
  },
  {
   "cell_type": "code",
   "execution_count": 69,
   "metadata": {
    "collapsed": true
   },
   "outputs": [],
   "source": [
    "import numpy as np\n",
    "import pandas as pd\n",
    "import matplotlib.pyplot as plt\n",
    "from sklearn import model_selection\n",
    "from sklearn.model_selection import train_test_split\n",
    "from sklearn.neighbors import KNeighborsClassifier\n",
    "from sklearn.metrics import accuracy_score\n",
    "from sklearn.model_selection import cross_val_score\n",
    "from collections import Counter\n",
    "from sklearn.metrics import accuracy_score\n"
   ]
  },
  {
   "cell_type": "code",
   "execution_count": null,
   "metadata": {
    "collapsed": true
   },
   "outputs": [],
   "source": [
    "# Preprocessing Features using all above techniques"
   ]
  },
  {
   "cell_type": "code",
   "execution_count": 70,
   "metadata": {
    "colab": {},
    "colab_type": "code",
    "id": "1Rd8zIc8DYLF",
    "outputId": "33fd610b-9479-4f0e-bfd1-10e308b4b382"
   },
   "outputs": [
    {
     "name": "stderr",
     "output_type": "stream",
     "text": [
      "100%|████████████████████████████████████████████████████████████████████████| 107309/107309 [01:25<00:00, 1255.57it/s]\n"
     ]
    }
   ],
   "source": [
    "# Combining all the above stundents \n",
    "from bs4 import BeautifulSoup\n",
    "from tqdm import tqdm\n",
    "X = []\n",
    "# tqdm is for printing the status bar\n",
    "for sentance in tqdm(final['Text'].values):\n",
    "    sentance = re.sub(r\"http\\S+\", \"\", sentance)\n",
    "    sentance = BeautifulSoup(sentance, 'lxml').get_text()\n",
    "    sentance = decontracted(sentance)\n",
    "    sentance = re.sub(\"\\S*\\d\\S*\", \"\", sentance).strip()\n",
    "    sentance = re.sub('[^A-Za-z]+', ' ', sentance)\n",
    "    # https://gist.github.com/sebleier/554280\n",
    "    sentance = ' '.join(e.lower() for e in sentance.split() if e.lower() not in stopwords)\n",
    "    X.append(sentance.strip())"
   ]
  },
  {
   "cell_type": "code",
   "execution_count": 71,
   "metadata": {},
   "outputs": [
    {
     "name": "stdout",
     "output_type": "stream",
     "text": [
      "48170 (48170,)\n",
      "23727 (23727,)\n",
      "35412 (35412,)\n",
      "====================================================================================================\n"
     ]
    }
   ],
   "source": [
    "# X_train, X_test, y_train, y_test = train_test_split(X, Y, test_size=0.33, shuffle=Flase)# this is for time series split\n",
    "X_train, X_test, y_train, y_test = train_test_split(X, y, test_size=0.33) # this is random splitting\n",
    "X_train, X_cv, y_train, y_cv = train_test_split(X_train, y_train, test_size=0.33) # this is random splitting\n",
    "\n",
    "\n",
    "print(len(X_train), y_train.shape)\n",
    "print(len(X_cv), y_cv.shape)\n",
    "print(len(X_test), y_test.shape)\n",
    "\n",
    "print(\"=\"*100)\n"
   ]
  },
  {
   "cell_type": "code",
   "execution_count": 72,
   "metadata": {},
   "outputs": [
    {
     "name": "stdout",
     "output_type": "stream",
     "text": [
      "Counter({1: 40517, 0: 7653})\n",
      "Counter({1: 19898, 0: 3829})\n",
      "Counter({1: 29728, 0: 5684})\n"
     ]
    }
   ],
   "source": [
    "import collections, numpy\n",
    "print(collections.Counter(y_train))\n",
    "print(collections.Counter(y_cv))\n",
    "print(collections.Counter(y_test))"
   ]
  },
  {
   "cell_type": "code",
   "execution_count": null,
   "metadata": {
    "collapsed": true
   },
   "outputs": [],
   "source": [
    "#As dataset is imbalnced in train data 40517 positive samples vs 7653 negative\n",
    "#in cross validation 19898 positive nd 3829 negative samples\n",
    "#and in Tset data29728 positive sample vs 5684 negative samples"
   ]
  },
  {
   "cell_type": "markdown",
   "metadata": {
    "colab_type": "text",
    "id": "vSmZvNNZDYLi"
   },
   "source": [
    "# [4] Featurization"
   ]
  },
  {
   "cell_type": "markdown",
   "metadata": {
    "colab_type": "text",
    "id": "zZs1QbloDYLk"
   },
   "source": [
    "## [4.1] BAG OF WORDS"
   ]
  },
  {
   "cell_type": "code",
   "execution_count": 73,
   "metadata": {
    "colab": {},
    "colab_type": "code",
    "id": "KGkxITLpDYLl",
    "outputId": "16064dd0-ec67-4bdc-eb91-bde23ac4377b"
   },
   "outputs": [
    {
     "name": "stdout",
     "output_type": "stream",
     "text": [
      "some feature names  ['aa', 'aaa', 'aaaa', 'aaaaa', 'aaaaaaaaaaaaaaa', 'aaaaaaahhhhhh', 'aaaaaawwwwwwwwww', 'aaaah', 'aaaand', 'aaah']\n",
      "==================================================\n",
      "the type of count vectorizer  <class 'scipy.sparse.csr.csr_matrix'>\n",
      "the shape of out text BOW vectorizer  (48170, 41282)\n",
      "the number of unique words  41282\n"
     ]
    }
   ],
   "source": [
    "#BoW\n",
    "count_vect = CountVectorizer() #in scikit-learn\n",
    "count_vect.fit(X_train)\n",
    "print(\"some feature names \", count_vect.get_feature_names()[:10])\n",
    "print('='*50)\n",
    "\n",
    "final_counts = count_vect.transform(X_train)\n",
    "print(\"the type of count vectorizer \",type(final_counts))\n",
    "print(\"the shape of out text BOW vectorizer \",final_counts.get_shape())\n",
    "print(\"the number of unique words \", final_counts.get_shape()[1])"
   ]
  },
  {
   "cell_type": "code",
   "execution_count": null,
   "metadata": {
    "collapsed": true
   },
   "outputs": [],
   "source": [
    "#BoW vector with dimension 41282 is created\n",
    "# Same for cv and test dataset to do in next cell\n",
    "# So set 1 are datasets using BoW\n",
    "#.fit is applied on train data only whereas .transform applied on train cv and test datasets"
   ]
  },
  {
   "cell_type": "code",
   "execution_count": 74,
   "metadata": {},
   "outputs": [
    {
     "name": "stdout",
     "output_type": "stream",
     "text": [
      "After vectorizations\n",
      "(48170, 41282) (48170,)\n",
      "(23727, 41282) (23727,)\n",
      "(35412, 41282) (35412,)\n",
      "====================================================================================================\n"
     ]
    }
   ],
   "source": [
    "# we use the fitted CountVectorizer to convert the text to vector\n",
    "#.transform to apply on train, cv and test which will give set 1 of vectorized data\n",
    "set1_train = count_vect.transform(X_train)\n",
    "set1_cv = count_vect.transform(X_cv)\n",
    "set1_test = count_vect.transform(X_test)\n",
    "\n",
    "print(\"After vectorizations\")\n",
    "print(set1_train.shape, y_train.shape)\n",
    "print(set1_cv.shape, y_cv.shape)\n",
    "print(set1_test.shape, y_test.shape)\n",
    "print(\"=\"*100)"
   ]
  },
  {
   "cell_type": "code",
   "execution_count": 93,
   "metadata": {
    "collapsed": true
   },
   "outputs": [],
   "source": [
    "# To calculate review text length (on BoW) and add it as feature\n",
    "# set1_train_bow_rl, set1_cv_bow_rl, and set1_test_bow_rl are datasets with added feature"
   ]
  },
  {
   "cell_type": "code",
   "execution_count": 75,
   "metadata": {},
   "outputs": [
    {
     "name": "stdout",
     "output_type": "stream",
     "text": [
      "(48170, 1)\n",
      "(23727, 1)\n",
      "(35412, 1)\n",
      "(48170, 41283)\n",
      "(23727, 41283)\n",
      "(35412, 41283)\n"
     ]
    }
   ],
   "source": [
    "from scipy import sparse\n",
    "from scipy.sparse import csr_matrix,coo_matrix, hstack\n",
    "#review length is calculated for train cv and tset datasets\n",
    "set1_train_revlen=csr_matrix(set1_train.sum(axis=1))\n",
    "set1_cv_revlen=csr_matrix(set1_cv.sum(axis=1))\n",
    "set1_test_revlen=csr_matrix(set1_test.sum(axis=1))\n",
    "\n",
    "#To check dimension of newly created feature i.e. Review Length\n",
    "print(set1_train_revlen.get_shape())\n",
    "print(set1_cv_revlen.get_shape())\n",
    "print(set1_test_revlen.get_shape())\n",
    "\n",
    "#Review length is stacked with bow features\n",
    "set1_train_bow_rl=csr_matrix(hstack([set1_train,set1_train_revlen]))\n",
    "set1_cv_bow_rl=csr_matrix(hstack([set1_cv,set1_cv_revlen]))\n",
    "set1_test_bow_rl=csr_matrix(hstack([set1_test,set1_test_revlen]))\n",
    "\n",
    "#dimensions of bow+rev length dataset are printed for check\n",
    "print(set1_train_bow_rl.get_shape())\n",
    "print(set1_cv_bow_rl.get_shape())\n",
    "print(set1_test_bow_rl.get_shape())"
   ]
  },
  {
   "cell_type": "code",
   "execution_count": null,
   "metadata": {
    "collapsed": true
   },
   "outputs": [],
   "source": [
    "#originally set1 was with 41282 dimensions after adding review length as one more , total dim are 41283\n",
    "#I1 and I2 lists are storing all dim/feature names to be used to find most and least imp feature names"
   ]
  },
  {
   "cell_type": "code",
   "execution_count": 76,
   "metadata": {},
   "outputs": [
    {
     "name": "stdout",
     "output_type": "stream",
     "text": [
      "41282\n",
      "41283\n"
     ]
    }
   ],
   "source": [
    "I1=[]\n",
    "I2=[]\n",
    "I1.extend(count_vect.get_feature_names())\n",
    "I2.extend(count_vect.get_feature_names())\n",
    "I2.append(\"Rev_length\")\n",
    "print(len(I1))\n",
    "print(len(I2))\n",
    "#print(I)"
   ]
  },
  {
   "cell_type": "code",
   "execution_count": null,
   "metadata": {
    "collapsed": true
   },
   "outputs": [],
   "source": [
    "#so after adding feature total number of features in dataset are 41283\n",
    "#set1 of 41282 and set1 with rl 41283 features \n",
    "#Next cell contains cross validation using for loop"
   ]
  },
  {
   "cell_type": "code",
   "execution_count": 77,
   "metadata": {
    "collapsed": true
   },
   "outputs": [],
   "source": [
    "def NB_cv(x_train,y_train,x_cv,y_cv):\n",
    "    from sklearn.naive_bayes import MultinomialNB\n",
    "    from sklearn.metrics import roc_auc_score\n",
    "    import matplotlib.pyplot as plt\n",
    "    import math\n",
    "\n",
    "    train_auc = []\n",
    "    cv_auc = []\n",
    "    K_log=[]\n",
    "    K = [0.00001, 0.00005, 0.0001, 0.0005, 0.001, 0.005, 0.01, 0.05, 0.1, 0.5, 1, 5, 10,50,100,500,1000,5000,10000]\n",
    "    for i in K:\n",
    "        NB = MultinomialNB(alpha=i)\n",
    "        model=NB.fit(set1_train, y_train)\n",
    "        #print(model)\n",
    "\n",
    "        y_train_pred =  model.predict_proba(set1_train)[:,1]\n",
    "        y_cv_pred =  model.predict_proba(set1_cv)[:,1]\n",
    "    \n",
    "        temp_train_rocauc=roc_auc_score(y_train,y_train_pred)\n",
    "        temp_cv_rocauc=roc_auc_score(y_cv, y_cv_pred)\n",
    "        diff_train_cv_roc_auc=temp_train_rocauc-temp_cv_rocauc\n",
    "        #print('Alpha::', i)\n",
    "        ##print('cv_rocauc::',temp_cv_rocauc)\n",
    "        #print('diff_train_cv_roc_auc',diff_train_cv_roc_auc)\n",
    "        train_auc.append(temp_train_rocauc)\n",
    "        cv_auc.append(temp_cv_rocauc)\n",
    "        K_log.append(math.log(i))\n",
    "    print(\"cv_auc\",cv_auc)   \n",
    "    print('-'*100)\n",
    "    print(\"K\",K)\n",
    "    print('-'*100)\n",
    "    plt.plot(K_log, train_auc, label='Train AUC')\n",
    "    plt.plot(K_log, cv_auc, label='CV AUC')\n",
    "    plt.legend()\n",
    "    plt.xlabel(\"hyperparameter Alpha\")\n",
    "    plt.ylabel(\"AUC\")\n",
    "    plt.title(\"ERROR PLOTS\")\n",
    "    plt.show()\n",
    "    ind_max=cv_auc.index(max(cv_auc))\n",
    "    print(ind_max)\n",
    "    #ind_max=max(range(len(cv_auc)),key=values.__getitem__)\n",
    "    print(\"Best Alpha\",K[ind_max])\n",
    "    return"
   ]
  },
  {
   "cell_type": "code",
   "execution_count": null,
   "metadata": {
    "collapsed": true
   },
   "outputs": [],
   "source": [
    "#Next cell contains test function\n",
    "#parameters to send are Train Data Test Data best alpha determined using cross validation and list of features"
   ]
  },
  {
   "cell_type": "code",
   "execution_count": 82,
   "metadata": {
    "collapsed": true
   },
   "outputs": [],
   "source": [
    "\n",
    "def NB_test(XTrain, y_train, XTest, y_test, alpha, I):\n",
    "    from sklearn.naive_bayes import MultinomialNB\n",
    "    # https://scikit-learn.org/stable/modules/generated/sklearn.metrics.roc_curve.html#sklearn.metrics.roc_curve\n",
    "    from sklearn.metrics import roc_curve, auc\n",
    "    from sklearn.metrics import confusion_matrix\n",
    "\n",
    "    NB = MultinomialNB(alpha)\n",
    "    model=NB.fit(XTrain, y_train)\n",
    "# roc_auc_score(y_true, y_score) the 2nd parameter should be probability estimates of the positive class\n",
    "# not the predicted outputs\n",
    "\n",
    "    train_fpr, train_tpr, thresholds = roc_curve(y_train, model.predict_proba(XTrain)[:,1])\n",
    "    test_fpr, test_tpr, thresholds = roc_curve(y_test, model.predict_proba(XTest)[:,1])\n",
    "\n",
    "    plt.plot(train_fpr, train_tpr, label=\"train AUC =\"+str(auc(train_fpr, train_tpr)))\n",
    "    plt.plot(test_fpr, test_tpr, label=\"test AUC =\"+str(auc(test_fpr, test_tpr)))\n",
    "    auc_param=auc(test_fpr, test_tpr)\n",
    "    print('auc for Test data is::',auc_param)\n",
    "\n",
    "    plt.legend()\n",
    "    plt.xlabel(\"fpr\")\n",
    "    plt.ylabel(\"tpr\")\n",
    "    plt.title(\"AUC PLOTS\")\n",
    "    plt.show()\n",
    "\n",
    "    print(\"=\"*100)\n",
    "\n",
    "\n",
    "    yhat_train=model.predict(XTrain)\n",
    "    yhat_test=model.predict(XTest)\n",
    "\n",
    "    con_mat_train = confusion_matrix(y_train, yhat_train)\n",
    "    con_mat_test = confusion_matrix(y_test, yhat_test)\n",
    "\n",
    "    plt.figure()\n",
    "    class_label = [\"negative\", \"positive\"]\n",
    "    df_con_mat_train = pd.DataFrame(con_mat_train, index = class_label, columns = class_label)\n",
    "    sns.heatmap(df_con_mat_train , annot = True, fmt = \"d\")\n",
    "    plt.title(\"Confusiion Matrix for Train data\")\n",
    "    plt.xlabel(\"Predicted Label\")\n",
    "    plt.ylabel(\" Actual Label\")\n",
    "    #print(\"Train confusion matrix\")\n",
    "    #print(con_mat_train)\n",
    "\n",
    "    plt.figure()\n",
    "    class_label = [\"negative\", \"positive\"]\n",
    "    df_con_mat_test = pd.DataFrame(con_mat_test, index = class_label, columns = class_label)\n",
    "    sns.heatmap(df_con_mat_test , annot = True, fmt = \"d\")\n",
    "    plt.title(\"Confusiion Matrix for Test data\")\n",
    "    plt.xlabel(\"Predicted Label\")\n",
    "    plt.ylabel(\" Actual Label\")\n",
    "    plt.show()\n",
    "    #print(\"Test confusion matrix\")\n",
    "    #print(con_mat_test)\n",
    "\n",
    "    neg_class_prob_sorted=NB.feature_log_prob_[0, :].argsort()\n",
    "    pos_class_prob_sorted =NB.feature_log_prob_[1, :].argsort()\n",
    "    \n",
    "    print(\"=======================For Negative Class ==========================\")\n",
    "    print(\"==================10 Most Important Features =======================\")\n",
    "    print(np.take(I, neg_class_prob_sorted[:10]))\n",
    "\n",
    "    print(\"==================10 Least Important Features ======================\")\n",
    "    print(np.take(I, neg_class_prob_sorted[-10:]))\n",
    "\n",
    "    print(\"=======================For Positive Class ==========================\")\n",
    "    print(\"==================10 Most Important Features =======================\")\n",
    "    print(np.take(I, pos_class_prob_sorted[:10]))\n",
    "    print(\"==================10 Least Important Features ======================\")\n",
    "    print(np.take(I, pos_class_prob_sorted[-10:]))\n",
    "    \n",
    "    return(auc_param)"
   ]
  },
  {
   "cell_type": "markdown",
   "metadata": {},
   "source": [
    "#[5.1] Applying Naive Bayes on BOW, SET 1¶\n",
    "#cross validation to perform on set1 i.e.BoW data without added feature \n",
    "#So feature list I1 will be used to find most and least imp features"
   ]
  },
  {
   "cell_type": "markdown",
   "metadata": {},
   "source": [
    "# [5.1.1] Top 10 important features of positive class from Set1"
   ]
  },
  {
   "cell_type": "code",
   "execution_count": 79,
   "metadata": {},
   "outputs": [
    {
     "name": "stdout",
     "output_type": "stream",
     "text": [
      "cv_auc [0.8127089315078591, 0.827724325635565, 0.8348624669019101, 0.8527752375453806, 0.860892674604442, 0.8806634323427648, 0.8895030495170184, 0.9082565075092688, 0.9144970572169304, 0.9205685808802748, 0.9145763201678259, 0.8160177757962842, 0.7222785605911118, 0.5752987139609186, 0.5521348811033424, 0.5231837503154309, 0.5148751909746234, 0.48959836849835436, 0.47562737760961676]\n",
      "----------------------------------------------------------------------------------------------------\n",
      "K [1e-05, 5e-05, 0.0001, 0.0005, 0.001, 0.005, 0.01, 0.05, 0.1, 0.5, 1, 5, 10, 50, 100, 500, 1000, 5000, 10000]\n",
      "----------------------------------------------------------------------------------------------------\n"
     ]
    },
    {
     "data": {
      "image/png": "[encoded data removed]",
      "text/plain": [
       "<Figure size 432x288 with 1 Axes>"
      ]
     },
     "metadata": {
      "needs_background": "light"
     },
     "output_type": "display_data"
    },
    {
     "name": "stdout",
     "output_type": "stream",
     "text": [
      "9\n",
      "Best Alpha 0.5\n"
     ]
    }
   ],
   "source": [
    "NB_cv(set1_train,y_train,set1_cv,y_cv)"
   ]
  },
  {
   "cell_type": "code",
   "execution_count": 80,
   "metadata": {
    "collapsed": true
   },
   "outputs": [],
   "source": [
    "best_alpha_bow=0.5"
   ]
  },
  {
   "cell_type": "code",
   "execution_count": 83,
   "metadata": {},
   "outputs": [
    {
     "name": "stdout",
     "output_type": "stream",
     "text": [
      "auc for Test data is:: 0.9146583640299779\n"
     ]
    },
    {
     "data": {
      "image/png": "[encoded data removed]",
      "text/plain": [
       "<Figure size 432x288 with 1 Axes>"
      ]
     },
     "metadata": {
      "needs_background": "light"
     },
     "output_type": "display_data"
    },
    {
     "name": "stdout",
     "output_type": "stream",
     "text": [
      "====================================================================================================\n"
     ]
    },
    {
     "data": {
      "image/png": "[encoded data removed]",
      "text/plain": [
       "<Figure size 432x288 with 2 Axes>"
      ]
     },
     "metadata": {
      "needs_background": "light"
     },
     "output_type": "display_data"
    },
    {
     "data": {
      "image/png": "[encoded data removed]",
      "text/plain": [
       "<Figure size 432x288 with 2 Axes>"
      ]
     },
     "metadata": {
      "needs_background": "light"
     },
     "output_type": "display_data"
    },
    {
     "name": "stdout",
     "output_type": "stream",
     "text": [
      "=======================For Negative Class ==========================\n",
      "==================10 Most Important Features =======================\n",
      "['zzzzzzzzzz' 'hexagon' 'heterocyclic' 'hestitationgerman' 'hestitate'\n",
      " 'hesse' 'hesitations' 'saskatchewan' 'hesitating' 'hesitates']\n",
      "==================10 Least Important Features ======================\n",
      "['flavor' 'no' 'good' 'coffee' 'one' 'taste' 'product' 'would' 'like'\n",
      " 'not']\n",
      "=======================For Positive Class ==========================\n",
      "==================10 Most Important Features =======================\n",
      "['lifespan' 'suspiciously' 'clumsy' 'jest' 'suuuuuper' 'jesper'\n",
      " 'jerkythat' 'suspension' 'jerks' 'jerkee']\n",
      "==================10 Least Important Features ======================\n",
      "['love' 'would' 'flavor' 'taste' 'coffee' 'one' 'great' 'good' 'like'\n",
      " 'not']\n"
     ]
    }
   ],
   "source": [
    "auc_bow=NB_test(set1_train,y_train,set1_test,y_test,best_alpha_bow,I1)"
   ]
  },
  {
   "cell_type": "markdown",
   "metadata": {},
   "source": [
    "# Applying Cross validation on Bow with added feature Review length"
   ]
  },
  {
   "cell_type": "code",
   "execution_count": 84,
   "metadata": {},
   "outputs": [
    {
     "name": "stdout",
     "output_type": "stream",
     "text": [
      "cv_auc [0.8127089315078591, 0.827724325635565, 0.8348624669019101, 0.8527752375453806, 0.860892674604442, 0.8806634323427648, 0.8895030495170184, 0.9082565075092688, 0.9144970572169304, 0.9205685808802748, 0.9145763201678259, 0.8160177757962842, 0.7222785605911118, 0.5752987139609186, 0.5521348811033424, 0.5231837503154309, 0.5148751909746234, 0.48959836849835436, 0.47562737760961676]\n",
      "----------------------------------------------------------------------------------------------------\n",
      "K [1e-05, 5e-05, 0.0001, 0.0005, 0.001, 0.005, 0.01, 0.05, 0.1, 0.5, 1, 5, 10, 50, 100, 500, 1000, 5000, 10000]\n",
      "----------------------------------------------------------------------------------------------------\n"
     ]
    },
    {
     "data": {
      "image/png": "[encoded data removed]",
      "text/plain": [
       "<Figure size 432x288 with 1 Axes>"
      ]
     },
     "metadata": {
      "needs_background": "light"
     },
     "output_type": "display_data"
    },
    {
     "name": "stdout",
     "output_type": "stream",
     "text": [
      "9\n",
      "Best Alpha 0.5\n"
     ]
    }
   ],
   "source": [
    "NB_cv(set1_train_bow_rl,y_train,set1_cv_bow_rl,y_cv)"
   ]
  },
  {
   "cell_type": "markdown",
   "metadata": {},
   "source": [
    "# Testing with BOW with added feature and Finding Most Important and Least important features"
   ]
  },
  {
   "cell_type": "code",
   "execution_count": 85,
   "metadata": {},
   "outputs": [
    {
     "name": "stdout",
     "output_type": "stream",
     "text": [
      "auc for Test data is:: 0.9145168481352677\n"
     ]
    },
    {
     "data": {
      "image/png": "[encoded data removed]",
      "text/plain": [
       "<Figure size 432x288 with 1 Axes>"
      ]
     },
     "metadata": {
      "needs_background": "light"
     },
     "output_type": "display_data"
    },
    {
     "name": "stdout",
     "output_type": "stream",
     "text": [
      "====================================================================================================\n"
     ]
    },
    {
     "data": {
      "image/png": "[encoded data removed]",
      "text/plain": [
       "<Figure size 432x288 with 2 Axes>"
      ]
     },
     "metadata": {
      "needs_background": "light"
     },
     "output_type": "display_data"
    },
    {
     "data": {
      "image/png": "[encoded data removed]",
      "text/plain": [
       "<Figure size 432x288 with 2 Axes>"
      ]
     },
     "metadata": {
      "needs_background": "light"
     },
     "output_type": "display_data"
    },
    {
     "name": "stdout",
     "output_type": "stream",
     "text": [
      "=======================For Negative Class ==========================\n",
      "==================10 Most Important Features =======================\n",
      "['lifespans' 'listning' 'listmania' 'transporting' 'listens' 'transports'\n",
      " 'trapper' 'lish' 'liquour' 'liquorish']\n",
      "==================10 Least Important Features ======================\n",
      "['no' 'good' 'coffee' 'one' 'taste' 'product' 'would' 'like' 'not'\n",
      " 'Rev_length']\n",
      "=======================For Positive Class ==========================\n",
      "==================10 Most Important Features =======================\n",
      "['formulae' 'bezzera' 'readind' 'readingseveral' 'wounder' 'bevy'\n",
      " 'suprized' 'oates' 'emits' 'reaing']\n",
      "==================10 Least Important Features ======================\n",
      "['would' 'flavor' 'taste' 'coffee' 'one' 'great' 'good' 'like' 'not'\n",
      " 'Rev_length']\n"
     ]
    }
   ],
   "source": [
    "best_alpha_bow_rl=0.5\n",
    "auc_bow_rl=NB_test(set1_train_bow_rl,y_train,set1_test_bow_rl,y_test,best_alpha_bow_rl,I2)"
   ]
  },
  {
   "cell_type": "markdown",
   "metadata": {},
   "source": [
    "# [5.1] Applying Naive Bayes on  SET1 Bigram "
   ]
  },
  {
   "cell_type": "code",
   "execution_count": 86,
   "metadata": {},
   "outputs": [
    {
     "name": "stdout",
     "output_type": "stream",
     "text": [
      "the type of count vectorizer  <class 'scipy.sparse.csr.csr_matrix'>\n",
      "the shape of out text BOW vectorizer  (48170, 28595)\n",
      "the number of unique words including both unigrams and bigrams  28595\n"
     ]
    }
   ],
   "source": [
    "#bi-gram, tri-gram and n-gram\n",
    "\n",
    "#removing stop words like \"not\" should be avoided before building n-grams\n",
    "# count_vect = CountVectorizer(ngram_range=(1,2))\n",
    "# please do read the CountVectorizer documentation http://scikit-learn.org/stable/modules/generated/sklearn.feature_extraction.text.CountVectorizer.html\n",
    "\n",
    "# you can choose these numebrs min_df=10, max_features=5000, of your choice\n",
    "count_vect_bg = CountVectorizer(ngram_range=(1,2), min_df=10)\n",
    "final_bigram_counts = count_vect_bg.fit_transform(X_train)\n",
    "print(\"the type of count vectorizer \",type(final_bigram_counts))\n",
    "print(\"the shape of out text BOW vectorizer \",final_bigram_counts.get_shape())\n",
    "print(\"the number of unique words including both unigrams and bigrams \", final_bigram_counts.get_shape()[1])"
   ]
  },
  {
   "cell_type": "code",
   "execution_count": 87,
   "metadata": {},
   "outputs": [
    {
     "name": "stdout",
     "output_type": "stream",
     "text": [
      "After vectorizations\n",
      "(48170, 28595) (48170,)\n",
      "(23727, 28595) (23727,)\n",
      "(35412, 28595) (35412,)\n",
      "====================================================================================================\n"
     ]
    }
   ],
   "source": [
    "# we use the fitted CountVectorizer to convert the text to vector\n",
    "#.transform to apply on train, cv and test which will give set 1 of vectorized data\n",
    "set1_bg_train = count_vect_bg.transform(X_train)\n",
    "set1_bg_cv = count_vect_bg.transform(X_cv)\n",
    "set1_bg_test = count_vect_bg.transform(X_test)\n",
    "\n",
    "print(\"After vectorizations\")\n",
    "print(set1_bg_train.shape, y_train.shape)\n",
    "print(set1_bg_cv.shape, y_cv.shape)\n",
    "print(set1_bg_test.shape, y_test.shape)\n",
    "print(\"=\"*100)"
   ]
  },
  {
   "cell_type": "code",
   "execution_count": 88,
   "metadata": {},
   "outputs": [
    {
     "name": "stdout",
     "output_type": "stream",
     "text": [
      "28595\n",
      "28596\n"
     ]
    }
   ],
   "source": [
    "I3=[]# will store name of features without addning Review Length\n",
    "I4=[]# Will store name of features including Review length \n",
    "I3.extend(count_vect_bg.get_feature_names())\n",
    "I4.extend(count_vect_bg.get_feature_names())\n",
    "I4.append(\"Rev_length\")\n",
    "print(len(I3))\n",
    "print(len(I4))\n",
    "#print(I)"
   ]
  },
  {
   "cell_type": "code",
   "execution_count": 89,
   "metadata": {},
   "outputs": [
    {
     "name": "stdout",
     "output_type": "stream",
     "text": [
      "(48170, 1)\n",
      "(23727, 1)\n",
      "(35412, 1)\n",
      "(48170, 28596)\n",
      "(23727, 28596)\n",
      "(35412, 28596)\n"
     ]
    }
   ],
   "source": [
    "from scipy import sparse\n",
    "from scipy.sparse import csr_matrix,coo_matrix, hstack\n",
    "#review length is calculated for train cv and tset datasets\n",
    "set1_bg_train_revlen=csr_matrix(set1_bg_train.sum(axis=1))\n",
    "set1_bg_cv_revlen=csr_matrix(set1_bg_cv.sum(axis=1))\n",
    "set1_bg_test_revlen=csr_matrix(set1_bg_test.sum(axis=1))\n",
    "\n",
    "#To check dimension of newly created feature i.e. Review Length\n",
    "print(set1_bg_train_revlen.get_shape())\n",
    "print(set1_bg_cv_revlen.get_shape())\n",
    "print(set1_bg_test_revlen.get_shape())\n",
    "\n",
    "#Review length is stacked with bow features\n",
    "set1_train_bg_rl=csr_matrix(hstack([set1_bg_train,set1_bg_train_revlen]))\n",
    "set1_cv_bg_rl=csr_matrix(hstack([set1_bg_cv,set1_bg_cv_revlen]))\n",
    "set1_test_bg_rl=csr_matrix(hstack([set1_bg_test,set1_bg_test_revlen]))\n",
    "\n",
    "#dimensions of bow+rev length dataset are printed for check\n",
    "print(set1_train_bg_rl.get_shape())\n",
    "print(set1_cv_bg_rl.get_shape())\n",
    "print(set1_test_bg_rl.get_shape())"
   ]
  },
  {
   "cell_type": "code",
   "execution_count": 90,
   "metadata": {},
   "outputs": [
    {
     "name": "stdout",
     "output_type": "stream",
     "text": [
      "cv_auc [0.8127089315078591, 0.827724325635565, 0.8348624669019101, 0.8527752375453806, 0.860892674604442, 0.8806634323427648, 0.8895030495170184, 0.9082565075092688, 0.9144970572169304, 0.9205685808802748, 0.9145763201678259, 0.8160177757962842, 0.7222785605911118, 0.5752987139609186, 0.5521348811033424, 0.5231837503154309, 0.5148751909746234, 0.48959836849835436, 0.47562737760961676]\n",
      "----------------------------------------------------------------------------------------------------\n",
      "K [1e-05, 5e-05, 0.0001, 0.0005, 0.001, 0.005, 0.01, 0.05, 0.1, 0.5, 1, 5, 10, 50, 100, 500, 1000, 5000, 10000]\n",
      "----------------------------------------------------------------------------------------------------\n"
     ]
    },
    {
     "data": {
      "image/png": "[encoded data removed]",
      "text/plain": [
       "<Figure size 432x288 with 1 Axes>"
      ]
     },
     "metadata": {
      "needs_background": "light"
     },
     "output_type": "display_data"
    },
    {
     "name": "stdout",
     "output_type": "stream",
     "text": [
      "9\n",
      "Best Alpha 0.5\n"
     ]
    }
   ],
   "source": [
    "NB_cv(set1_bg_train,y_train,set1_bg_cv,y_cv)"
   ]
  },
  {
   "cell_type": "code",
   "execution_count": 91,
   "metadata": {},
   "outputs": [
    {
     "name": "stdout",
     "output_type": "stream",
     "text": [
      "auc for Test data is:: 0.9413526914491532\n"
     ]
    },
    {
     "data": {
      "image/png": "[encoded data removed]",
      "text/plain": [
       "<Figure size 432x288 with 1 Axes>"
      ]
     },
     "metadata": {
      "needs_background": "light"
     },
     "output_type": "display_data"
    },
    {
     "name": "stdout",
     "output_type": "stream",
     "text": [
      "====================================================================================================\n"
     ]
    },
    {
     "data": {
      "image/png": "[encoded data removed]",
      "text/plain": [
       "<Figure size 432x288 with 2 Axes>"
      ]
     },
     "metadata": {
      "needs_background": "light"
     },
     "output_type": "display_data"
    },
    {
     "data": {
      "image/png": "[encoded data removed]",
      "text/plain": [
       "<Figure size 432x288 with 2 Axes>"
      ]
     },
     "metadata": {
      "needs_background": "light"
     },
     "output_type": "display_data"
    },
    {
     "name": "stdout",
     "output_type": "stream",
     "text": [
      "=======================For Negative Class ==========================\n",
      "==================10 Most Important Features =======================\n",
      "['good training' 'main course' 'extra boost' 'magnificent' 'small bites'\n",
      " 'madras' 'extra treat' 'main thing' 'capers' 'capable']\n",
      "==================10 Least Important Features ======================\n",
      "['flavor' 'no' 'good' 'coffee' 'one' 'taste' 'product' 'would' 'like'\n",
      " 'not']\n",
      "=======================For Positive Class ==========================\n",
      "==================10 Most Important Features =======================\n",
      "['terrible product' 'sending back' 'false advertising' 'horrible taste'\n",
      " 'negative stars' 'huge disappointment' 'money go' 'highly disappointed'\n",
      " 'threw rest' 'dont waste']\n",
      "==================10 Least Important Features ======================\n",
      "['love' 'would' 'flavor' 'taste' 'coffee' 'one' 'great' 'good' 'like'\n",
      " 'not']\n"
     ]
    }
   ],
   "source": [
    "best_alpha_bg=0.5\n",
    "auc_bg=NB_test(set1_bg_train,y_train,set1_bg_test,y_test,best_alpha_bg,I3)"
   ]
  },
  {
   "cell_type": "code",
   "execution_count": 92,
   "metadata": {},
   "outputs": [
    {
     "name": "stdout",
     "output_type": "stream",
     "text": [
      "cv_auc [0.8127089315078591, 0.827724325635565, 0.8348624669019101, 0.8527752375453806, 0.860892674604442, 0.8806634323427648, 0.8895030495170184, 0.9082565075092688, 0.9144970572169304, 0.9205685808802748, 0.9145763201678259, 0.8160177757962842, 0.7222785605911118, 0.5752987139609186, 0.5521348811033424, 0.5231837503154309, 0.5148751909746234, 0.48959836849835436, 0.47562737760961676]\n",
      "----------------------------------------------------------------------------------------------------\n",
      "K [1e-05, 5e-05, 0.0001, 0.0005, 0.001, 0.005, 0.01, 0.05, 0.1, 0.5, 1, 5, 10, 50, 100, 500, 1000, 5000, 10000]\n",
      "----------------------------------------------------------------------------------------------------\n"
     ]
    },
    {
     "data": {
      "image/png": "[encoded data removed]",
      "text/plain": [
       "<Figure size 432x288 with 1 Axes>"
      ]
     },
     "metadata": {
      "needs_background": "light"
     },
     "output_type": "display_data"
    },
    {
     "name": "stdout",
     "output_type": "stream",
     "text": [
      "9\n",
      "Best Alpha 0.5\n"
     ]
    }
   ],
   "source": [
    "NB_cv(set1_train_bg_rl,y_train,set1_cv_bg_rl,y_cv)"
   ]
  },
  {
   "cell_type": "code",
   "execution_count": 93,
   "metadata": {},
   "outputs": [
    {
     "name": "stdout",
     "output_type": "stream",
     "text": [
      "auc for Test data is:: 0.9413400534065748\n"
     ]
    },
    {
     "data": {
      "image/png": "[encoded data removed]",
      "text/plain": [
       "<Figure size 432x288 with 1 Axes>"
      ]
     },
     "metadata": {
      "needs_background": "light"
     },
     "output_type": "display_data"
    },
    {
     "name": "stdout",
     "output_type": "stream",
     "text": [
      "====================================================================================================\n"
     ]
    },
    {
     "data": {
      "image/png": "[encoded data removed]",
      "text/plain": [
       "<Figure size 432x288 with 2 Axes>"
      ]
     },
     "metadata": {
      "needs_background": "light"
     },
     "output_type": "display_data"
    },
    {
     "data": {
      "image/png": "[encoded data removed]",
      "text/plain": [
       "<Figure size 432x288 with 2 Axes>"
      ]
     },
     "metadata": {
      "needs_background": "light"
     },
     "output_type": "display_data"
    },
    {
     "name": "stdout",
     "output_type": "stream",
     "text": [
      "=======================For Negative Class ==========================\n",
      "==================10 Most Important Features =======================\n",
      "['dog many' 'product perfect' 'product plan' 'favorite coconut'\n",
      " 'cracker crust' 'shipping well' 'bring boil' 'product problem'\n",
      " 'bring work' 'product quickly']\n",
      "==================10 Least Important Features ======================\n",
      "['no' 'good' 'coffee' 'one' 'taste' 'product' 'would' 'like' 'not'\n",
      " 'Rev_length']\n",
      "=======================For Positive Class ==========================\n",
      "==================10 Most Important Features =======================\n",
      "['false advertising' 'terrible product' 'worst coffee' 'could return'\n",
      " 'tasted awful' 'sending back' 'threw rest' 'highly disappointed'\n",
      " 'extremely disappointed' 'usually love']\n",
      "==================10 Least Important Features ======================\n",
      "['would' 'flavor' 'taste' 'coffee' 'one' 'great' 'good' 'like' 'not'\n",
      " 'Rev_length']\n"
     ]
    }
   ],
   "source": [
    "best_alpha_bg_rl=0.5\n",
    "auc_bg_rl=NB_test(set1_train_bg_rl,y_train,set1_test_bg_rl,y_test,best_alpha_bg_rl,I4)"
   ]
  },
  {
   "cell_type": "markdown",
   "metadata": {},
   "source": [
    "# [5.2] Applying Naive Bayes on TFIDF, SET 2"
   ]
  },
  {
   "cell_type": "code",
   "execution_count": 94,
   "metadata": {},
   "outputs": [
    {
     "name": "stdout",
     "output_type": "stream",
     "text": [
      "some sample features(unique words in the corpus) ['aa', 'abdominal', 'ability', 'able', 'able add', 'able buy', 'able chew', 'able drink', 'able eat', 'able enjoy']\n",
      "==================================================\n",
      "the type of count vectorizer  <class 'scipy.sparse.csr.csr_matrix'>\n",
      "the shape of out text TFIDF vectorizer  (48170, 28595)\n",
      "(23727, 28595) (23727,)\n",
      "(35412, 28595) (35412,)\n",
      "the number of unique words including both unigrams and bigrams  28595\n"
     ]
    }
   ],
   "source": [
    "tf_idf_vect = TfidfVectorizer(ngram_range=(1,2), min_df=10)\n",
    "tf_idf_vect.fit(X_train)\n",
    "print(\"some sample features(unique words in the corpus)\",tf_idf_vect.get_feature_names()[0:10])\n",
    "print('='*50)\n",
    "\n",
    "set2_train= tf_idf_vect.transform(X_train)\n",
    "set2_cv = tf_idf_vect.transform(X_cv)\n",
    "set2_test = tf_idf_vect.transform(X_test)\n",
    "print(\"the type of count vectorizer \",type(set2_train))\n",
    "print(\"the shape of out text TFIDF vectorizer \",set2_train.get_shape())\n",
    "\n",
    "print(set2_cv.shape, y_cv.shape)\n",
    "print(set2_test.shape, y_test.shape)\n",
    "print(\"the number of unique words including both unigrams and bigrams \", set2_train.get_shape()[1])"
   ]
  },
  {
   "cell_type": "code",
   "execution_count": null,
   "metadata": {
    "collapsed": true
   },
   "outputs": [],
   "source": [
    ".fit is applied on tain wheras .tranform applied on train,cv,and test datasests"
   ]
  },
  {
   "cell_type": "code",
   "execution_count": 95,
   "metadata": {},
   "outputs": [
    {
     "name": "stdout",
     "output_type": "stream",
     "text": [
      "After vectorizations\n",
      "(48170, 28595) (48170,)\n",
      "(23727, 28595) (23727,)\n",
      "(35412, 28595) (35412,)\n",
      "====================================================================================================\n"
     ]
    }
   ],
   "source": [
    "# we use the fitted CountVectorizer to convert the text to vector\n",
    "#.transform to apply on train, cv and test which will give set 1 of vectorized data\n",
    "set2_train = tf_idf_vect.transform(X_train)\n",
    "set2_cv = tf_idf_vect.transform(X_cv)\n",
    "set2_test = tf_idf_vect.transform(X_test)\n",
    "\n",
    "print(\"After vectorizations\")\n",
    "print(set2_train.shape, y_train.shape)\n",
    "print(set2_cv.shape, y_cv.shape)\n",
    "print(set2_test.shape, y_test.shape)\n",
    "print(\"=\"*100)"
   ]
  },
  {
   "cell_type": "code",
   "execution_count": null,
   "metadata": {
    "collapsed": true
   },
   "outputs": [],
   "source": [
    "#To add dimension in original TfIdf dataset"
   ]
  },
  {
   "cell_type": "code",
   "execution_count": 96,
   "metadata": {},
   "outputs": [
    {
     "name": "stdout",
     "output_type": "stream",
     "text": [
      "(48170, 1)\n",
      "(23727, 1)\n",
      "(35412, 1)\n",
      "(48170, 28596)\n",
      "(23727, 28596)\n",
      "(35412, 28596)\n"
     ]
    }
   ],
   "source": [
    "from scipy import sparse\n",
    "from scipy.sparse import csr_matrix,coo_matrix, hstack\n",
    "#review length is calculated for train cv and tset datasets\n",
    "set2_train_revlen=csr_matrix(set2_train.sum(axis=1))\n",
    "set2_cv_revlen=csr_matrix(set2_cv.sum(axis=1))\n",
    "set2_test_revlen=csr_matrix(set2_test.sum(axis=1))\n",
    "\n",
    "#To check dimension of newly created feature i.e. Review Length\n",
    "print(set2_train_revlen.get_shape())\n",
    "print(set2_cv_revlen.get_shape())\n",
    "print(set2_test_revlen.get_shape())\n",
    "\n",
    "#Review length is stacked with bow features\n",
    "set2_train_rl=csr_matrix(hstack([set2_train,set2_train_revlen]))\n",
    "set2_cv_rl=csr_matrix(hstack([set2_cv,set2_cv_revlen]))\n",
    "set2_test_rl=csr_matrix(hstack([set2_test,set2_test_revlen]))\n",
    "\n",
    "#dimensions of bow+rev length dataset are printed for check\n",
    "print(set2_train_rl.get_shape())\n",
    "print(set2_cv_rl.get_shape())\n",
    "print(set2_test_rl.get_shape())"
   ]
  },
  {
   "cell_type": "code",
   "execution_count": null,
   "metadata": {
    "collapsed": true
   },
   "outputs": [],
   "source": [
    "#Lists I5 and I6 are created to store tfidf and tfidf with review lenghth featue"
   ]
  },
  {
   "cell_type": "code",
   "execution_count": 97,
   "metadata": {},
   "outputs": [
    {
     "name": "stdout",
     "output_type": "stream",
     "text": [
      "28595\n",
      "28596\n"
     ]
    }
   ],
   "source": [
    "I5=[]\n",
    "I6=[]\n",
    "I5.extend(tf_idf_vect.get_feature_names())\n",
    "I6.extend(tf_idf_vect.get_feature_names())\n",
    "I6.append(\"Rev_length\")\n",
    "print(len(I5))\n",
    "print(len(I6))\n",
    "#print(I)"
   ]
  },
  {
   "cell_type": "raw",
   "metadata": {},
   "source": [
    "#Cross validation is performed on tfidf i.e.set2_train and set2_cv datasets"
   ]
  },
  {
   "cell_type": "code",
   "execution_count": 98,
   "metadata": {},
   "outputs": [
    {
     "name": "stdout",
     "output_type": "stream",
     "text": [
      "cv_auc [0.8127089315078591, 0.827724325635565, 0.8348624669019101, 0.8527752375453806, 0.860892674604442, 0.8806634323427648, 0.8895030495170184, 0.9082565075092688, 0.9144970572169304, 0.9205685808802748, 0.9145763201678259, 0.8160177757962842, 0.7222785605911118, 0.5752987139609186, 0.5521348811033424, 0.5231837503154309, 0.5148751909746234, 0.48959836849835436, 0.47562737760961676]\n",
      "----------------------------------------------------------------------------------------------------\n",
      "K [1e-05, 5e-05, 0.0001, 0.0005, 0.001, 0.005, 0.01, 0.05, 0.1, 0.5, 1, 5, 10, 50, 100, 500, 1000, 5000, 10000]\n",
      "----------------------------------------------------------------------------------------------------\n"
     ]
    },
    {
     "data": {
      "image/png": "[encoded data removed]",
      "text/plain": [
       "<Figure size 432x288 with 1 Axes>"
      ]
     },
     "metadata": {
      "needs_background": "light"
     },
     "output_type": "display_data"
    },
    {
     "name": "stdout",
     "output_type": "stream",
     "text": [
      "9\n",
      "Best Alpha 0.5\n"
     ]
    }
   ],
   "source": [
    "NB_cv(set2_train,y_train,set2_cv,y_cv)\n"
   ]
  },
  {
   "cell_type": "code",
   "execution_count": null,
   "metadata": {
    "collapsed": true
   },
   "outputs": [],
   "source": [
    "#test is applied on set2 (tfidf dataset with only Review Text Features I5)"
   ]
  },
  {
   "cell_type": "code",
   "execution_count": 99,
   "metadata": {},
   "outputs": [
    {
     "name": "stdout",
     "output_type": "stream",
     "text": [
      "auc for Test data is:: 0.952319911414512\n"
     ]
    },
    {
     "data": {
      "image/png": "[encoded data removed]",
      "text/plain": [
       "<Figure size 432x288 with 1 Axes>"
      ]
     },
     "metadata": {
      "needs_background": "light"
     },
     "output_type": "display_data"
    },
    {
     "name": "stdout",
     "output_type": "stream",
     "text": [
      "====================================================================================================\n"
     ]
    },
    {
     "data": {
      "image/png": "[encoded data removed]",
      "text/plain": [
       "<Figure size 432x288 with 2 Axes>"
      ]
     },
     "metadata": {
      "needs_background": "light"
     },
     "output_type": "display_data"
    },
    {
     "data": {
      "image/png": "[encoded data removed]",
      "text/plain": [
       "<Figure size 432x288 with 2 Axes>"
      ]
     },
     "metadata": {
      "needs_background": "light"
     },
     "output_type": "display_data"
    },
    {
     "name": "stdout",
     "output_type": "stream",
     "text": [
      "=======================For Negative Class ==========================\n",
      "==================10 Most Important Features =======================\n",
      "['cavalier king' 'pretty cool' 'great mixed' 'preservatives no'\n",
      " 'preservatives chemicals' 'busy day' 'preservatives artificial'\n",
      " 'great morning' 'butter add' 'butter also']\n",
      "==================10 Least Important Features ======================\n",
      "['even' 'flavor' 'no' 'one' 'coffee' 'would' 'taste' 'product' 'like'\n",
      " 'not']\n",
      "=======================For Positive Class ==========================\n",
      "==================10 Most Important Features =======================\n",
      "['usually love' 'worst coffee' 'threw rest' 'tasted awful'\n",
      " 'highly disappointed' 'terrible product' 'money go' 'horrible taste'\n",
      " 'sending back' 'dont waste']\n",
      "==================10 Least Important Features ======================\n",
      "['product' 'taste' 'one' 'tea' 'love' 'coffee' 'like' 'good' 'great' 'not']\n"
     ]
    }
   ],
   "source": [
    "\n",
    "best_alpha_tfidf=0.5\n",
    "\n",
    "auc_tfidf=NB_test(set2_train,y_train,set2_test,y_test,best_alpha_tfidf,I5)"
   ]
  },
  {
   "cell_type": "code",
   "execution_count": 100,
   "metadata": {},
   "outputs": [
    {
     "name": "stdout",
     "output_type": "stream",
     "text": [
      "cv_auc [0.8127089315078591, 0.827724325635565, 0.8348624669019101, 0.8527752375453806, 0.860892674604442, 0.8806634323427648, 0.8895030495170184, 0.9082565075092688, 0.9144970572169304, 0.9205685808802748, 0.9145763201678259, 0.8160177757962842, 0.7222785605911118, 0.5752987139609186, 0.5521348811033424, 0.5231837503154309, 0.5148751909746234, 0.48959836849835436, 0.47562737760961676]\n",
      "----------------------------------------------------------------------------------------------------\n",
      "K [1e-05, 5e-05, 0.0001, 0.0005, 0.001, 0.005, 0.01, 0.05, 0.1, 0.5, 1, 5, 10, 50, 100, 500, 1000, 5000, 10000]\n",
      "----------------------------------------------------------------------------------------------------\n"
     ]
    },
    {
     "data": {
      "image/png": "[encoded data removed]",
      "text/plain": [
       "<Figure size 432x288 with 1 Axes>"
      ]
     },
     "metadata": {
      "needs_background": "light"
     },
     "output_type": "display_data"
    },
    {
     "name": "stdout",
     "output_type": "stream",
     "text": [
      "9\n",
      "Best Alpha 0.5\n"
     ]
    }
   ],
   "source": [
    "NB_cv(set2_train_rl,y_train,set2_cv_rl,y_cv)\n"
   ]
  },
  {
   "cell_type": "code",
   "execution_count": 101,
   "metadata": {},
   "outputs": [
    {
     "name": "stdout",
     "output_type": "stream",
     "text": [
      "auc for Test data is:: 0.9524343195808073\n"
     ]
    },
    {
     "data": {
      "image/png": "[encoded data removed]",
      "text/plain": [
       "<Figure size 432x288 with 1 Axes>"
      ]
     },
     "metadata": {
      "needs_background": "light"
     },
     "output_type": "display_data"
    },
    {
     "name": "stdout",
     "output_type": "stream",
     "text": [
      "====================================================================================================\n"
     ]
    },
    {
     "data": {
      "image/png": "[encoded data removed]",
      "text/plain": [
       "<Figure size 432x288 with 2 Axes>"
      ]
     },
     "metadata": {
      "needs_background": "light"
     },
     "output_type": "display_data"
    },
    {
     "data": {
      "image/png": "[encoded data removed]",
      "text/plain": [
       "<Figure size 432x288 with 2 Axes>"
      ]
     },
     "metadata": {
      "needs_background": "light"
     },
     "output_type": "display_data"
    },
    {
     "name": "stdout",
     "output_type": "stream",
     "text": [
      "=======================For Negative Class ==========================\n",
      "==================10 Most Important Features =======================\n",
      "['definitely tell' 'definitely favorite' 'definitely continue'\n",
      " 'definitely buying' 'definitely best' 'definately recommend'\n",
      " 'definately order' 'online since' 'sugar cream' 'open pouch']\n",
      "==================10 Least Important Features ======================\n",
      "['flavor' 'no' 'one' 'coffee' 'would' 'taste' 'product' 'like' 'not'\n",
      " 'Rev_length']\n",
      "=======================For Positive Class ==========================\n",
      "==================10 Most Important Features =======================\n",
      "['money go' 'sending back' 'horrible taste' 'major disappointment'\n",
      " 'terrible product' 'could return' 'extremely disappointed' 'usually love'\n",
      " 'tasted awful' 'dont waste']\n",
      "==================10 Least Important Features ======================\n",
      "['taste' 'one' 'tea' 'love' 'coffee' 'like' 'good' 'great' 'not'\n",
      " 'Rev_length']\n"
     ]
    }
   ],
   "source": [
    "\n",
    "best_alpha_tfidf_rl=0.5\n",
    "\n",
    "auc_tfidf_rl=NB_test(set2_train_rl,y_train,set2_test_rl,y_test,best_alpha_tfidf_rl,I6)"
   ]
  },
  {
   "cell_type": "code",
   "execution_count": 103,
   "metadata": {},
   "outputs": [
    {
     "name": "stdout",
     "output_type": "stream",
     "text": [
      "+------------+-------------------+----------------+--------------------+\n",
      "| Vectorizer |      dataset      | Hyperparameter |        AUC         |\n",
      "+------------+-------------------+----------------+--------------------+\n",
      "|    BoW     |        set1       |      0.5       | 0.9146583640299779 |\n",
      "|   BiGram   |        set1       |      0.5       | 0.9413526914491532 |\n",
      "|   TfIdf    |        set2       |      0.5       | 0.952319911414512  |\n",
      "|    BoW     | set1 with RevLen  |      0.5       | 0.9145168481352677 |\n",
      "|   BiGram   |  set1 with RevLen |      0.5       | 0.9413400534065748 |\n",
      "|   TfIdf    |  set2 with RevLen |      0.5       | 0.9524343195808073 |\n",
      "+------------+-------------------+----------------+--------------------+\n"
     ]
    }
   ],
   "source": [
    "# Please compare all your models using Prettytable library\n",
    "\n",
    "from prettytable import PrettyTable\n",
    "result=PrettyTable()\n",
    "result.field_names=[\"Vectorizer\",\"dataset\",\"Hyperparameter\",\"AUC\"]\n",
    "result.add_row([\"BoW\",\"set1\",best_alpha_bow,auc_bow])\n",
    "result.add_row([\"BiGram\",\"set1\",best_alpha_bg,auc_bg])\n",
    "result.add_row([\"TfIdf\",\"set2\",best_alpha_tfidf,auc_tfidf])\n",
    "\n",
    "result.add_row([\"BoW\",\"set1 with RevLen \",best_alpha_bow_rl,auc_bow_rl])\n",
    "result.add_row([\"BiGram\",\"set1 with RevLen\",best_alpha_bg_rl,auc_bg_rl])\n",
    "result.add_row([\"TfIdf\",\"set2 with RevLen\",best_alpha_tfidf_rl,auc_tfidf_rl])\n",
    "\n",
    "\n",
    "\n",
    "print(result)"
   ]
  },
  {
   "cell_type": "markdown",
   "metadata": {},
   "source": [
    "\n",
    "#Hyperparameter Alpha is found 0.5 in all cases\n",
    "# Best performance if shown on tfidf vectorized data and low performance is shown on BoW vectorized data\n",
    "\n",
    "# Adding Review length as feature is not showing any significant change on model performance. Even Rev_length is least important feature in all cases and for both i.e. positive and negative classes\n"
   ]
  }
 ],
 "metadata": {
  "colab": {
   "name": "03 Amazon Fine Food Reviews Analysis_KNN.ipynb",
   "provenance": [],
   "version": "0.3.2"
  },
  "kernelspec": {
   "display_name": "Python 3",
   "language": "python",
   "name": "python3"
  },
  "language_info": {
   "codemirror_mode": {
    "name": "ipython",
    "version": 3
   },
   "file_extension": ".py",
   "mimetype": "text/x-python",
   "name": "python",
   "nbconvert_exporter": "python",
   "pygments_lexer": "ipython3",
   "version": "3.6.3"
  }
 },
 "nbformat": 4,
 "nbformat_minor": 1
}
